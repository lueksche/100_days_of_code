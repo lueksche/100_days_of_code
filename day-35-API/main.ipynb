{
 "cells": [
  {
   "cell_type": "code",
   "execution_count": 76,
   "metadata": {},
   "outputs": [
    {
     "name": "stdout",
     "output_type": "stream",
     "text": [
      "Defaulting to user installation because normal site-packages is not writeable\n",
      "\u001b[33mWARNING: Skipping /Library/Frameworks/Python.framework/Versions/3.12/lib/python3.12/site-packages/pandas-1.5.3.dist-info due to invalid metadata entry 'name'\u001b[0m\u001b[33m\n",
      "\u001b[0m\u001b[33mWARNING: Skipping /Library/Frameworks/Python.framework/Versions/3.12/lib/python3.12/site-packages/pandas-1.5.3.dist-info due to invalid metadata entry 'name'\u001b[0m\u001b[33m\n",
      "\u001b[0mRequirement already satisfied: pynput in /Users/Lukas.Deibel/Library/Python/3.12/lib/python/site-packages (1.7.7)\n",
      "Requirement already satisfied: six in /Users/Lukas.Deibel/Library/Python/3.12/lib/python/site-packages (from pynput) (1.16.0)\n",
      "Requirement already satisfied: pyobjc-framework-ApplicationServices>=8.0 in /Users/Lukas.Deibel/Library/Python/3.12/lib/python/site-packages (from pynput) (10.3.1)\n",
      "Requirement already satisfied: pyobjc-framework-Quartz>=8.0 in /Users/Lukas.Deibel/Library/Python/3.12/lib/python/site-packages (from pynput) (10.3.1)\n",
      "Requirement already satisfied: pyobjc-core>=10.3.1 in /Users/Lukas.Deibel/Library/Python/3.12/lib/python/site-packages (from pyobjc-framework-ApplicationServices>=8.0->pynput) (10.3.1)\n",
      "Requirement already satisfied: pyobjc-framework-Cocoa>=10.3.1 in /Users/Lukas.Deibel/Library/Python/3.12/lib/python/site-packages (from pyobjc-framework-ApplicationServices>=8.0->pynput) (10.3.1)\n",
      "Requirement already satisfied: pyobjc-framework-CoreText>=10.3.1 in /Users/Lukas.Deibel/Library/Python/3.12/lib/python/site-packages (from pyobjc-framework-ApplicationServices>=8.0->pynput) (10.3.1)\n",
      "\u001b[33mWARNING: Skipping /Library/Frameworks/Python.framework/Versions/3.12/lib/python3.12/site-packages/pandas-1.5.3.dist-info due to invalid metadata entry 'name'\u001b[0m\u001b[33m\n",
      "\u001b[0m\u001b[33mWARNING: Skipping /Library/Frameworks/Python.framework/Versions/3.12/lib/python3.12/site-packages/pandas-1.5.3.dist-info due to invalid metadata entry 'name'\u001b[0m\u001b[33m\n",
      "\u001b[0m\n",
      "\u001b[1m[\u001b[0m\u001b[34;49mnotice\u001b[0m\u001b[1;39;49m]\u001b[0m\u001b[39;49m A new release of pip is available: \u001b[0m\u001b[31;49m24.0\u001b[0m\u001b[39;49m -> \u001b[0m\u001b[32;49m24.1\u001b[0m\n",
      "\u001b[1m[\u001b[0m\u001b[34;49mnotice\u001b[0m\u001b[1;39;49m]\u001b[0m\u001b[39;49m To update, run: \u001b[0m\u001b[32;49mpython3 -m pip install --upgrade pip\u001b[0m\n",
      "Note: you may need to restart the kernel to use updated packages.\n"
     ]
    }
   ],
   "source": [
    "%pip install pynput\n"
   ]
  },
  {
   "cell_type": "code",
   "execution_count": 77,
   "metadata": {},
   "outputs": [],
   "source": [
    "import requests\n",
    "import pywhatkit"
   ]
  },
  {
   "cell_type": "code",
   "execution_count": 78,
   "metadata": {},
   "outputs": [],
   "source": [
    "API_KEY = \"b40ae450e23171d46628aeb38a84c958\"\n",
    "MY_LAT = 48.066366280500105\n",
    "MY_LNG = 11.625329611257103\n",
    "URL = \"https://api.openweathermap.org/data/2.5/forecast\"\n",
    "MY_PHONE_NUMBER = \"+4917624680132\""
   ]
  },
  {
   "cell_type": "code",
   "execution_count": 79,
   "metadata": {},
   "outputs": [],
   "source": [
    "parameters = {\n",
    "    \"lat\": MY_LAT,\n",
    "    \"lon\": MY_LNG,\n",
    "    \"appid\": API_KEY,\n",
    "    \"units\": \"metric\",\n",
    "    \"cnt\": 4,\n",
    "    }"
   ]
  },
  {
   "cell_type": "code",
   "execution_count": 80,
   "metadata": {},
   "outputs": [],
   "source": [
    "import time \n",
    "import pywhatkit\n",
    "import pyautogui\n",
    "from pynput.keyboard import Key, Controller\n",
    "\n",
    "keyboard = Controller()\n",
    "\n",
    "\n",
    "def send_whatsapp_message(msg: str):\n",
    "    try:\n",
    "        pywhatkit.sendwhatmsg_instantly(\n",
    "            phone_no=MY_PHONE_NUMBER, \n",
    "            message=msg,\n",
    "            tab_close=True\n",
    "        )\n",
    "        time.sleep(10)\n",
    "        pyautogui.click()\n",
    "        time.sleep(2)\n",
    "        keyboard.press(Key.enter)\n",
    "        keyboard.release(Key.enter)\n",
    "        print(\"Message sent!\")\n",
    "    except Exception as e:\n",
    "        print(str(e))"
   ]
  },
  {
   "cell_type": "code",
   "execution_count": 81,
   "metadata": {},
   "outputs": [],
   "source": [
    "response = requests.api.get(URL, params=parameters)\n",
    "response.raise_for_status()\n",
    "weather_data = response.json()"
   ]
  },
  {
   "cell_type": "code",
   "execution_count": 83,
   "metadata": {},
   "outputs": [
    {
     "name": "stdout",
     "output_type": "stream",
     "text": [
      "Message sent!\n"
     ]
    }
   ],
   "source": [
    "will_rain = False\n",
    "\n",
    "for i in weather_data[\"list\"]:\n",
    "    if i[\"weather\"][0][\"id\"] < 700:\n",
    "        will_rain = True\n",
    "\n",
    "if will_rain:\n",
    "    send_whatsapp_message(\"It's going to rain today. Remember to bring an umbrella!\")"
   ]
  },
  {
   "cell_type": "code",
   "execution_count": null,
   "metadata": {},
   "outputs": [],
   "source": []
  }
 ],
 "metadata": {
  "kernelspec": {
   "display_name": "Python 3",
   "language": "python",
   "name": "python3"
  },
  "language_info": {
   "codemirror_mode": {
    "name": "ipython",
    "version": 3
   },
   "file_extension": ".py",
   "mimetype": "text/x-python",
   "name": "python",
   "nbconvert_exporter": "python",
   "pygments_lexer": "ipython3",
   "version": "3.12.3"
  }
 },
 "nbformat": 4,
 "nbformat_minor": 2
}
