{
 "cells": [
  {
   "cell_type": "code",
   "execution_count": 14,
   "metadata": {},
   "outputs": [],
   "source": [
    "from selenium import webdriver\n",
    "from selenium.webdriver.common.by import By"
   ]
  },
  {
   "cell_type": "code",
   "execution_count": 11,
   "metadata": {},
   "outputs": [],
   "source": [
    "firefox_options = webdriver.FirefoxOptions()\n",
    "firefox_options.enable_downloads = False"
   ]
  },
  {
   "cell_type": "code",
   "execution_count": 32,
   "metadata": {},
   "outputs": [],
   "source": [
    "driver = webdriver.Firefox(options=firefox_options)"
   ]
  },
  {
   "cell_type": "code",
   "execution_count": 25,
   "metadata": {},
   "outputs": [
    {
     "name": "stdout",
     "output_type": "stream",
     "text": [
      "The price is 34,99€\n"
     ]
    }
   ],
   "source": [
    "driver.get(\"https://www.amazon.de/Philips-OneBlade-Ersatzklingen-QP250-50/dp/B0BS747TYL?pd_rd_w=TZTPn&content-id=amzn1.sym.44a6a9fa-138f-4e7e-a794-6ddd25a76e6b&pf_rd_p=44a6a9fa-138f-4e7e-a794-6ddd25a76e6b&pf_rd_r=T9RQEZ4CS50FXPC33995&pd_rd_wg=OAT3L&pd_rd_r=825be197-46ef-41b6-9fd7-e30008b5a28c&pd_rd_i=B0BS747TYL&ref_=pd_hp_d_btf_unk_B0BS747TYL\")\n",
    "price_whole = driver.find_element(By.CLASS_NAME, \"a-price-whole\").text\n",
    "price_fraction = driver.find_element(By.CLASS_NAME, \"a-price-fraction\").text\n",
    "print(f\"The price is {price_whole},{price_fraction}€\")"
   ]
  },
  {
   "cell_type": "code",
   "execution_count": 39,
   "metadata": {},
   "outputs": [
    {
     "name": "stdout",
     "output_type": "stream",
     "text": [
      "Submit Website Bug\n"
     ]
    }
   ],
   "source": [
    "# Find elements\n",
    "driver.get(\"https://python.org\")\n",
    "\n",
    "# By Name\n",
    "search_bar = driver.find_element(By.NAME, \"q\")\n",
    "\n",
    "# By CSS Selector\n",
    "documentation_link = driver.find_element(By.CSS_SELECTOR, \".documentation-widget a\")\n",
    "\n",
    "# By XPath\n",
    "website_bug = driver.find_element(By.XPATH, '//*[@id=\"site-map\"]/div[2]/div/ul/li[3]/a')\n",
    "print(website_bug.text)\n",
    "\n",
    "# Locators could be:\n",
    "# By.ID\n",
    "# By.CLASS_NAME\n",
    "# By.LINK_TEXT\n",
    "# By.PARTIAL_LINK_TEXT\n",
    "# By.TAG_NAME\n",
    "# By.XPATH\n",
    "# By.CSS_SELECTOR"
   ]
  },
  {
   "cell_type": "code",
   "execution_count": 13,
   "metadata": {},
   "outputs": [],
   "source": [
    "# Quit program\n",
    "driver.quit()\n",
    "\n",
    "# Close browser\n",
    "# driver.close()"
   ]
  },
  {
   "cell_type": "code",
   "execution_count": 50,
   "metadata": {},
   "outputs": [
    {
     "name": "stdout",
     "output_type": "stream",
     "text": [
      "{0: {'date': '2024-10-09', 'name': 'PyCon Uganda 2024'}, 1: {'date': '2024-10-10', 'name': 'PyCon NL 2024'}, 2: {'date': '2024-10-14', 'name': 'PyCon MEA & Data Science 2024'}, 3: {'date': '2024-10-14', 'name': 'Python in Education Day'}, 4: {'date': '2024-10-16', 'name': 'PyCon Panamá 2024'}}\n"
     ]
    }
   ],
   "source": [
    "# Python Events\n",
    "upcoming_events = driver.find_elements(By.CSS_SELECTOR, \".event-widget li\")\n",
    "event_dict = {}\n",
    "for i, event in enumerate(upcoming_events):\n",
    "    event_dict[i] = {}\n",
    "    date = event.text.split(\"\\n\")[0]\n",
    "    name = event.text.split(\"\\n\")[1]\n",
    "    event_dict[i][\"date\"] = date\n",
    "    event_dict[i][\"name\"] = name\n",
    "print(event_dict)"
   ]
  },
  {
   "cell_type": "code",
   "execution_count": null,
   "metadata": {},
   "outputs": [],
   "source": []
  }
 ],
 "metadata": {
  "kernelspec": {
   "display_name": "100_days_of_code",
   "language": "python",
   "name": "python3"
  },
  "language_info": {
   "codemirror_mode": {
    "name": "ipython",
    "version": 3
   },
   "file_extension": ".py",
   "mimetype": "text/x-python",
   "name": "python",
   "nbconvert_exporter": "python",
   "pygments_lexer": "ipython3",
   "version": "3.12.3"
  }
 },
 "nbformat": 4,
 "nbformat_minor": 2
}
