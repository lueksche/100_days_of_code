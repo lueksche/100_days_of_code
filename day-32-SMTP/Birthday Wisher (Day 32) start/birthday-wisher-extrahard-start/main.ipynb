{
 "cells": [
  {
   "cell_type": "markdown",
   "metadata": {},
   "source": [
    "# Birthday Bot\n",
    "Build a bot that automatically checks if someone in your list has birthday and sends a birthday message.\n",
    "\n",
    "- Read letter templates.txt\n",
    "    - Enter Path\n",
    "    - Use glob to get file path\n",
    "- Randomly select a file path to load .txt\n",
    "- Read birthdays.csv\n",
    "- Check if today matches a birthday in list\n",
    "- Adjust template letter, replace [NAME] with Name from birthday list\n",
    "- Send Mail"
   ]
  },
  {
   "cell_type": "code",
   "execution_count": 9,
   "metadata": {},
   "outputs": [
    {
     "data": {
      "text/plain": [
       "'letter_templates/letter_2.txt'"
      ]
     },
     "execution_count": 9,
     "metadata": {},
     "output_type": "execute_result"
    }
   ],
   "source": [
    "import os\n",
    "import glob\n",
    "import random\n",
    "\n",
    "PATH_TEMPLATES = \"letter_templates\"\n",
    "\n",
    "list_paths = glob.glob(PATH_TEMPLATES + \"/*.txt\")\n",
    "template = random.choice(list_paths)"
   ]
  },
  {
   "cell_type": "code",
   "execution_count": 19,
   "metadata": {},
   "outputs": [
    {
     "data": {
      "text/html": [
       "<div>\n",
       "<style scoped>\n",
       "    .dataframe tbody tr th:only-of-type {\n",
       "        vertical-align: middle;\n",
       "    }\n",
       "\n",
       "    .dataframe tbody tr th {\n",
       "        vertical-align: top;\n",
       "    }\n",
       "\n",
       "    .dataframe thead th {\n",
       "        text-align: right;\n",
       "    }\n",
       "</style>\n",
       "<table border=\"1\" class=\"dataframe\">\n",
       "  <thead>\n",
       "    <tr style=\"text-align: right;\">\n",
       "      <th></th>\n",
       "      <th>name</th>\n",
       "      <th>email</th>\n",
       "      <th>year</th>\n",
       "      <th>month</th>\n",
       "      <th>day</th>\n",
       "    </tr>\n",
       "  </thead>\n",
       "  <tbody>\n",
       "    <tr>\n",
       "      <th>0</th>\n",
       "      <td>Lukas</td>\n",
       "      <td>deibel_lukas@gmx.de</td>\n",
       "      <td>1989</td>\n",
       "      <td>6</td>\n",
       "      <td>26</td>\n",
       "    </tr>\n",
       "    <tr>\n",
       "      <th>1</th>\n",
       "      <td>Hans</td>\n",
       "      <td>deibel_lukas@gmx.de</td>\n",
       "      <td>1989</td>\n",
       "      <td>6</td>\n",
       "      <td>26</td>\n",
       "    </tr>\n",
       "    <tr>\n",
       "      <th>2</th>\n",
       "      <td>Kathrin</td>\n",
       "      <td>deibel_lukas@gmx.de</td>\n",
       "      <td>1989</td>\n",
       "      <td>7</td>\n",
       "      <td>26</td>\n",
       "    </tr>\n",
       "  </tbody>\n",
       "</table>\n",
       "</div>"
      ],
      "text/plain": [
       "      name                email  year  month  day\n",
       "0    Lukas  deibel_lukas@gmx.de  1989      6   26\n",
       "1     Hans  deibel_lukas@gmx.de  1989      6   26\n",
       "2  Kathrin  deibel_lukas@gmx.de  1989      7   26"
      ]
     },
     "execution_count": 19,
     "metadata": {},
     "output_type": "execute_result"
    }
   ],
   "source": [
    "import pandas as pd\n",
    "df = pd.read_csv(\"birthdays.csv\")\n",
    "df"
   ]
  },
  {
   "cell_type": "code",
   "execution_count": 20,
   "metadata": {},
   "outputs": [],
   "source": [
    "import datetime as dt\n",
    "\n",
    "def get_birthdays(df):\n",
    "    now = dt.datetime.now()\n",
    "    month = now.month\n",
    "    day = now.day\n",
    "    birthdays = df[(df[\"month\"] == month) & (df[\"day\"] == day)]\n",
    "    return birthdays\n"
   ]
  },
  {
   "cell_type": "code",
   "execution_count": 21,
   "metadata": {},
   "outputs": [],
   "source": [
    "def get_letter(name, template):\n",
    "    with open(template) as file:\n",
    "        letter = file.read()\n",
    "        letter = letter.replace(\"[NAME]\", name)\n",
    "    return letter"
   ]
  },
  {
   "cell_type": "code",
   "execution_count": 38,
   "metadata": {},
   "outputs": [
    {
     "name": "stdout",
     "output_type": "stream",
     "text": [
      "Sending email to deibel_lukas@gmx.de\n",
      "Hey Lukas,\n",
      "\n",
      "Happy birthday! Have a wonderful time today and eat lots of cake!\n",
      "\n",
      "Lots of love,\n",
      "\n",
      "Angela\n",
      "\n",
      "\n",
      "\n",
      "\n",
      "Sending email to deibel_lukas@gmx.de\n",
      "Hey Hans,\n",
      "\n",
      "Happy birthday! Have a wonderful time today and eat lots of cake!\n",
      "\n",
      "Lots of love,\n",
      "\n",
      "Angela\n",
      "\n",
      "\n",
      "\n",
      "\n"
     ]
    }
   ],
   "source": [
    "import smtplib\n",
    "\n",
    "MY_EMAIL = \"lukassmtptest@gmail.com\"\n",
    "PASSWORD = \"khcx tvji fywp jjik\"\n",
    "\n",
    "def send_mail():\n",
    "    with smtplib.SMTP(\"smtp.gmail.com\") as connection:\n",
    "        connection.starttls()\n",
    "        connection.login(user=MY_EMAIL, password=PASSWORD)\n",
    "        birthdays = get_birthdays(df)\n",
    "        for index, row in birthdays.iterrows():\n",
    "            name = row[\"name\"]\n",
    "            email = row[\"email\"]\n",
    "            letter = get_letter(name, template)     \n",
    "            connection.sendmail(from_addr=MY_EMAIL, \n",
    "                            to_addrs=email, \n",
    "                            msg=f\"Subject: Birthday Wishes\\n\\n{letter}\")\n",
    "            print(f\"Sending email to {email}\")\n",
    "            print(letter)\n",
    "            print(\"\\n\\n\\n\")\n",
    "   \n",
    "send_mail()"
   ]
  },
  {
   "cell_type": "code",
   "execution_count": null,
   "metadata": {},
   "outputs": [],
   "source": []
  }
 ],
 "metadata": {
  "kernelspec": {
   "display_name": "Python 3",
   "language": "python",
   "name": "python3"
  },
  "language_info": {
   "codemirror_mode": {
    "name": "ipython",
    "version": 3
   },
   "file_extension": ".py",
   "mimetype": "text/x-python",
   "name": "python",
   "nbconvert_exporter": "python",
   "pygments_lexer": "ipython3",
   "version": "3.12.3"
  }
 },
 "nbformat": 4,
 "nbformat_minor": 2
}
