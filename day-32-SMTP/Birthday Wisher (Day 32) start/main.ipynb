{
 "cells": [
  {
   "cell_type": "code",
   "execution_count": 21,
   "metadata": {},
   "outputs": [],
   "source": [
    "import smtplib\n",
    "\n",
    "MY_EMAIL = \"lukassmtptest@gmail.com\"\n",
    "PASSWORD = \"khcx tvji fywp jjik\""
   ]
  },
  {
   "cell_type": "code",
   "execution_count": 22,
   "metadata": {},
   "outputs": [],
   "source": [
    "def send_monday_quote(user, password, from_email, to_email, subject, message):\n",
    "    with smtplib.SMTP(\"smtp.gmail.com\") as connection:\n",
    "        connection.starttls()\n",
    "        connection.login(user=user, password=password)\n",
    "        connection.sendmail(from_addr=from_email, \n",
    "                            to_addrs=to_email, \n",
    "                            msg=f\"Subject:{subject}\\n\\n{message}\")\n",
    "        connection.close()"
   ]
  },
  {
   "cell_type": "code",
   "execution_count": 23,
   "metadata": {},
   "outputs": [],
   "source": [
    "import random\n",
    "\n",
    "def select_random_quote():\n",
    "    with open(\"quotes.txt\") as file:\n",
    "        quotes = file.readlines()\n",
    "    return random.choice(quotes)"
   ]
  },
  {
   "cell_type": "code",
   "execution_count": 24,
   "metadata": {},
   "outputs": [],
   "source": [
    "import datetime as dt\n",
    "\n",
    "now = dt.datetime.now()\n",
    "weekday = now.weekday()"
   ]
  },
  {
   "cell_type": "code",
   "execution_count": 28,
   "metadata": {},
   "outputs": [
    {
     "name": "stdout",
     "output_type": "stream",
     "text": [
      "Email sent\n"
     ]
    }
   ],
   "source": [
    "assert weekday == 2, \"It is not Monday\"\n",
    "quote = select_random_quote()\n",
    "send_monday_quote(MY_EMAIL, PASSWORD, MY_EMAIL, \"deibel_lukas@gmx.de\", \"Monday Motivation\", quote)\n",
    "print(\"Email sent\")    "
   ]
  },
  {
   "cell_type": "code",
   "execution_count": null,
   "metadata": {},
   "outputs": [],
   "source": []
  }
 ],
 "metadata": {
  "kernelspec": {
   "display_name": "Python 3",
   "language": "python",
   "name": "python3"
  },
  "language_info": {
   "codemirror_mode": {
    "name": "ipython",
    "version": 3
   },
   "file_extension": ".py",
   "mimetype": "text/x-python",
   "name": "python",
   "nbconvert_exporter": "python",
   "pygments_lexer": "ipython3",
   "version": "3.12.3"
  }
 },
 "nbformat": 4,
 "nbformat_minor": 2
}
