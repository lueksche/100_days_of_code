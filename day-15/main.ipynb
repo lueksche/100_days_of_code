{
 "cells": [
  {
   "cell_type": "markdown",
   "metadata": {},
   "source": [
    "Coffee Machine Program Requirements\n",
    "\n",
    "Coffee Machine Program Requirements\n",
    "1. Prompt user by asking “What would you like? (espresso/latte/cappuccino):”\n",
    "a. Check the user’s input to decide what to do next.\n",
    "b. The prompt should show every time action has completed, e.g. once the drink is\n",
    "dispensed. The prompt should show again to serve the next customer.\n",
    "\n",
    "2. Turn off the Coffee Machine by entering “off” to the prompt.\n",
    "a. For maintainers of the coffee machine, they can use “off” as the secret word to turn off\n",
    "the machine. Your code should end execution when this happens.\n",
    "\n",
    "3. Print report.\n",
    "a. When the user enters “report” to the prompt, a report should be generated that shows\n",
    "the current resource values. e.g.\n",
    "Water: 100ml\n",
    "Milk: 50ml\n",
    "Coffee: 76g\n",
    "Money: $2.5\n",
    "\n",
    "4. Check resources sufficient?\n",
    "a. When the user chooses a drink, the program should check if there are enough\n",
    "resources to make that drink.\n",
    "b. E.g. if Latte requires 200ml water but there is only 100ml left in the machine. It should\n",
    "not continue to make the drink but print: “Sorry there is not enough water.”\n",
    "c. The same should happen if another resource is depleted, e.g. milk or coffee.\n",
    "\n",
    "5. Process coins.\n",
    "a. If there are sufficient resources to make the drink selected, then the program should\n",
    "prompt the user to insert coins.\n",
    "b. Remember that quarters = $0.25, dimes = $0.10, nickles = $0.05, pennies = $0.01\n",
    "c. Calculate the monetary value of the coins inserted. E.g. 1 quarter, 2 dimes, 1 nickel, 2\n",
    "pennies = 0.25 + 0.1 x 2 + 0.05 + 0.01 x 2 = $0.52\n",
    "\n",
    "6. Check transaction successful?\n",
    "a. Check that the user has inserted enough money to purchase the drink they selected.\n",
    "E.g Latte cost $2.50, but they only inserted $0.52 then after counting the coins the\n",
    "program should say “Sorry that's not enough money. Money refunded.”.\n",
    "b. But if the user has inserted enough money, then the cost of the drink gets added to the\n",
    "machine as the profit and this will be reflected the next time “report” is triggered. E.g.\n",
    "Water: 100ml\n",
    "Milk: 50ml\n",
    "Coffee: 76g\n",
    "Money: $2.5\n",
    "c. If the user has inserted too much money, the machine should offer change.\n",
    "E.g. “Here is $2.45 dollars in change.” The change should be rounded to 2 decimal\n",
    "places.\n",
    "\n",
    "7. Make Coffee.\n",
    "a. If the transaction is successful and there are enough resources to make the drink the\n",
    "user selected, then the ingredients to make the drink should be deducted from the\n",
    "coffee machine resources.\n",
    "E.g. report before purchasing latte:\n",
    "Water: 300ml\n",
    "Milk: 200ml\n",
    "Coffee: 100g\n",
    "Money: $0\n",
    "Report after purchasing latte:\n",
    "Water: 100ml\n",
    "Milk: 50ml\n",
    "Coffee: 76g\n",
    "Money: $2.5\n",
    "b. Once all resources have been deducted, tell the user “Here is your latte. Enjoy!”. If\n",
    "latte was their choice of drink."
   ]
  },
  {
   "cell_type": "markdown",
   "metadata": {},
   "source": [
    "ToDo\n",
    "\n",
    "- create directory for coins and their value (done)\n",
    "- Option to select beverage or report\n",
    "    - directory with functions?\n",
    "- coin operating function\n",
    "    - Coin insert with 5 inputs \n",
    "    - calculating the total\n",
    "- check if enough resources available for selection\n",
    "- reduce resources for selected beverage\n",
    "- create a report function to display all resources\n",
    "\n",
    "    \n"
   ]
  },
  {
   "cell_type": "code",
   "execution_count": 31,
   "metadata": {},
   "outputs": [],
   "source": [
    "# Data\n",
    "coins = {\n",
    "    \"quarters\": 0.25,\n",
    "    \"dimes\": 0.1,\n",
    "    \"nickles\": 0.05,\n",
    "    \"pennies\": 0.01,\n",
    "}\n",
    "\n",
    "MENU = {\n",
    "    \"espresso\": {\n",
    "        \"ingredients\": {\n",
    "            \"water\": 50,\n",
    "            \"milk\": 0,\n",
    "            \"coffee\": 18,\n",
    "        },\n",
    "        \"cost\": 1.5,\n",
    "    },\n",
    "    \"latte\": {\n",
    "        \"ingredients\": {\n",
    "            \"water\": 200,\n",
    "            \"milk\": 150,\n",
    "            \"coffee\": 24,\n",
    "        },\n",
    "        \"cost\": 2.5,\n",
    "    },\n",
    "    \"cappuccino\": {\n",
    "        \"ingredients\": {\n",
    "            \"water\": 250,\n",
    "            \"milk\": 100,\n",
    "            \"coffee\": 24,\n",
    "        },\n",
    "        \"cost\": 3.0,\n",
    "    }\n",
    "}\n",
    "\n",
    "resources = {\n",
    "    \"water\": 300,\n",
    "    \"milk\": 200,\n",
    "    \"coffee\": 100,\n",
    "}\n"
   ]
  },
  {
   "cell_type": "code",
   "execution_count": 32,
   "metadata": {},
   "outputs": [],
   "source": [
    "# Function to select beverage\n",
    "\n",
    "def costs_selected_beverage(beverage):\n",
    "    \"\"\"Function to retrieve information of the beverage within the MENU dictionary\"\"\"\n",
    "    cost = MENU[beverage][\"cost\"]\n",
    "    return cost"
   ]
  },
  {
   "cell_type": "code",
   "execution_count": 33,
   "metadata": {},
   "outputs": [],
   "source": [
    "# Function to enter coins\n",
    "\n",
    "def insert_coin():\n",
    "    '''amount_quarters = int(input(\"how many quarters?: \"))\n",
    "    amount_dimes = int(input(\"how many dimes?: \"))\n",
    "    amount_nickels = int(input(\"how many nickels?: \"))\n",
    "    amount_pennies = int(input(\"how many pennies?: \"))'''\n",
    "    # Test\n",
    "    amount_quarters = 50\n",
    "    amount_dimes = 2\n",
    "    amount_nickels = 2\n",
    "    amount_pennies = 2\n",
    "    total_coins = round(amount_quarters * 0.25 + amount_dimes * 0.1 + amount_nickels * 0.05 + amount_pennies * 0.01, 2)\n",
    "    return total_coins\n"
   ]
  },
  {
   "cell_type": "code",
   "execution_count": 34,
   "metadata": {},
   "outputs": [],
   "source": [
    "def show_report():\n",
    "    print(f\"Water: {total_water}ml\")\n",
    "    print(f\"Milk: {total_milk}ml\")\n",
    "    print(f\"Coffee: {total_coffee}g\")\n",
    "    print(f\"Money: ${total_money}\")"
   ]
  },
  {
   "cell_type": "code",
   "execution_count": 35,
   "metadata": {},
   "outputs": [],
   "source": [
    "def calculate_change(cost, cash):\n",
    "    '''Calculate the change for the buy'''\n",
    "    invoice = cash - cost\n",
    "    return invoice\n"
   ]
  },
  {
   "cell_type": "code",
   "execution_count": 36,
   "metadata": {},
   "outputs": [
    {
     "name": "stdout",
     "output_type": "stream",
     "text": [
      "12.82\n",
      "Water: 300ml\n",
      "Milk: 200ml\n",
      "Coffee: 100g\n",
      "Money: $12.82\n",
      "2.5\n"
     ]
    },
    {
     "data": {
      "text/plain": [
       "10.32"
      ]
     },
     "execution_count": 36,
     "metadata": {},
     "output_type": "execute_result"
    }
   ],
   "source": [
    "# For Testing\n",
    "selection = \"latte\"\n",
    "\n",
    "# Global variable\n",
    "total_water = resources[\"water\"]\n",
    "total_milk = resources[\"milk\"]\n",
    "total_coffee = resources[\"coffee\"]\n",
    "total_money = insert_coin()\n",
    "costs_of_selection = costs_selected_beverage(selection)\n",
    "\n",
    "print(insert_coin())\n",
    "show_report()\n",
    "print(costs_selected_beverage(selection))\n",
    "calculate_change(costs_of_selection, total_money)\n"
   ]
  },
  {
   "cell_type": "markdown",
   "metadata": {},
   "source": [
    "Done"
   ]
  }
 ],
 "metadata": {
  "kernelspec": {
   "display_name": "Python 3",
   "language": "python",
   "name": "python3"
  },
  "language_info": {
   "codemirror_mode": {
    "name": "ipython",
    "version": 3
   },
   "file_extension": ".py",
   "mimetype": "text/x-python",
   "name": "python",
   "nbconvert_exporter": "python",
   "pygments_lexer": "ipython3",
   "version": "3.10.6"
  },
  "vscode": {
   "interpreter": {
    "hash": "aee8b7b246df8f9039afb4144a1f6fd8d2ca17a180786b69acc140d282b71a49"
   }
  }
 },
 "nbformat": 4,
 "nbformat_minor": 2
}
