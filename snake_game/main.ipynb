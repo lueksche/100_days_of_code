{
 "cells": [
  {
   "cell_type": "markdown",
   "metadata": {},
   "source": [
    "Build a snake game with Turtle package"
   ]
  },
  {
   "cell_type": "code",
   "execution_count": 1,
   "metadata": {},
   "outputs": [],
   "source": [
    "# Imorting needed packages\n",
    "\n",
    "from turtle import Screen, Turtle\n",
    "from snake import Snake\n",
    "from time import sleep\n"
   ]
  },
  {
   "cell_type": "code",
   "execution_count": 2,
   "metadata": {},
   "outputs": [
    {
     "name": "stderr",
     "output_type": "stream",
     "text": [
      "2024-01-04 13:10:51.256 Python[77224:1691415] WARNING: Secure coding is not enabled for restorable state! Enable secure coding by implementing NSApplicationDelegate.applicationSupportsSecureRestorableState: and returning YES.\n"
     ]
    }
   ],
   "source": [
    "# Setting up screen\n",
    "\n",
    "screen = Screen()\n",
    "screen.setup(width=600, height=600)\n",
    "screen.bgcolor(\"black\")\n",
    "screen.title(\"My Snake Game\")\n",
    "screen.tracer(0)"
   ]
  },
  {
   "cell_type": "code",
   "execution_count": 3,
   "metadata": {},
   "outputs": [],
   "source": [
    "# Initiating snake object\n",
    "\n",
    "snake = Snake()"
   ]
  },
  {
   "cell_type": "code",
   "execution_count": 4,
   "metadata": {},
   "outputs": [],
   "source": [
    "# Listening events\n",
    "\n",
    "# Running the game\n",
    "screen.listen()\n",
    "\n",
    "for arrow_key, direction in snake.controls.items():\n",
    "    screen.onkey(key=arrow_key, fun=direction)"
   ]
  },
  {
   "cell_type": "code",
   "execution_count": 5,
   "metadata": {},
   "outputs": [
    {
     "ename": "TclError",
     "evalue": "invalid command name \".!canvas\"",
     "output_type": "error",
     "traceback": [
      "\u001b[0;31m---------------------------------------------------------------------------\u001b[0m",
      "\u001b[0;31mTclError\u001b[0m                                  Traceback (most recent call last)",
      "\u001b[1;32m/Users/Lukas.Deibel/code_repository/100_days_of_code/snake_game/main.ipynb Cell 6\u001b[0m line \u001b[0;36m6\n\u001b[1;32m      <a href='vscode-notebook-cell:/Users/Lukas.Deibel/code_repository/100_days_of_code/snake_game/main.ipynb#X10sZmlsZQ%3D%3D?line=3'>4</a>\u001b[0m screen\u001b[39m.\u001b[39mupdate()\n\u001b[1;32m      <a href='vscode-notebook-cell:/Users/Lukas.Deibel/code_repository/100_days_of_code/snake_game/main.ipynb#X10sZmlsZQ%3D%3D?line=4'>5</a>\u001b[0m sleep(\u001b[39m0.1\u001b[39m)\n\u001b[0;32m----> <a href='vscode-notebook-cell:/Users/Lukas.Deibel/code_repository/100_days_of_code/snake_game/main.ipynb#X10sZmlsZQ%3D%3D?line=5'>6</a>\u001b[0m snake\u001b[39m.\u001b[39;49mmove()\n",
      "File \u001b[0;32m~/code_repository/100_days_of_code/snake_game/snake.py:35\u001b[0m, in \u001b[0;36mSnake.move\u001b[0;34m(self)\u001b[0m\n\u001b[1;32m     33\u001b[0m     new_x \u001b[39m=\u001b[39m \u001b[39mself\u001b[39m\u001b[39m.\u001b[39msegments_list[i\u001b[39m-\u001b[39m\u001b[39m1\u001b[39m]\u001b[39m.\u001b[39mxcor() \n\u001b[1;32m     34\u001b[0m     new_y \u001b[39m=\u001b[39m \u001b[39mself\u001b[39m\u001b[39m.\u001b[39msegments_list[i\u001b[39m-\u001b[39m\u001b[39m1\u001b[39m]\u001b[39m.\u001b[39mycor()\n\u001b[0;32m---> 35\u001b[0m     \u001b[39mself\u001b[39;49m\u001b[39m.\u001b[39;49msegments_list[i]\u001b[39m.\u001b[39;49mgoto(new_x, new_y)\n\u001b[1;32m     36\u001b[0m \u001b[39mself\u001b[39m\u001b[39m.\u001b[39mhead\u001b[39m.\u001b[39mforward(MOVING_DISTANCE)\n",
      "File \u001b[0;32m/Library/Frameworks/Python.framework/Versions/3.10/lib/python3.10/turtle.py:1777\u001b[0m, in \u001b[0;36mTNavigator.goto\u001b[0;34m(self, x, y)\u001b[0m\n\u001b[1;32m   1775\u001b[0m     \u001b[39mself\u001b[39m\u001b[39m.\u001b[39m_goto(Vec2D(\u001b[39m*\u001b[39mx))\n\u001b[1;32m   1776\u001b[0m \u001b[39melse\u001b[39;00m:\n\u001b[0;32m-> 1777\u001b[0m     \u001b[39mself\u001b[39;49m\u001b[39m.\u001b[39;49m_goto(Vec2D(x, y))\n",
      "File \u001b[0;32m/Library/Frameworks/Python.framework/Versions/3.10/lib/python3.10/turtle.py:3160\u001b[0m, in \u001b[0;36mRawTurtle._goto\u001b[0;34m(self, end)\u001b[0m\n\u001b[1;32m   3152\u001b[0m go_modes \u001b[39m=\u001b[39m ( \u001b[39mself\u001b[39m\u001b[39m.\u001b[39m_drawing,\n\u001b[1;32m   3153\u001b[0m              \u001b[39mself\u001b[39m\u001b[39m.\u001b[39m_pencolor,\n\u001b[1;32m   3154\u001b[0m              \u001b[39mself\u001b[39m\u001b[39m.\u001b[39m_pensize,\n\u001b[1;32m   3155\u001b[0m              \u001b[39misinstance\u001b[39m(\u001b[39mself\u001b[39m\u001b[39m.\u001b[39m_fillpath, \u001b[39mlist\u001b[39m))\n\u001b[1;32m   3156\u001b[0m screen \u001b[39m=\u001b[39m \u001b[39mself\u001b[39m\u001b[39m.\u001b[39mscreen\n\u001b[1;32m   3157\u001b[0m undo_entry \u001b[39m=\u001b[39m (\u001b[39m\"\u001b[39m\u001b[39mgo\u001b[39m\u001b[39m\"\u001b[39m, \u001b[39mself\u001b[39m\u001b[39m.\u001b[39m_position, end, go_modes,\n\u001b[1;32m   3158\u001b[0m               (\u001b[39mself\u001b[39m\u001b[39m.\u001b[39mcurrentLineItem,\n\u001b[1;32m   3159\u001b[0m               \u001b[39mself\u001b[39m\u001b[39m.\u001b[39mcurrentLine[:],\n\u001b[0;32m-> 3160\u001b[0m               screen\u001b[39m.\u001b[39;49m_pointlist(\u001b[39mself\u001b[39;49m\u001b[39m.\u001b[39;49mcurrentLineItem),\n\u001b[1;32m   3161\u001b[0m               \u001b[39mself\u001b[39m\u001b[39m.\u001b[39mitems[:])\n\u001b[1;32m   3162\u001b[0m               )\n\u001b[1;32m   3163\u001b[0m \u001b[39mif\u001b[39;00m \u001b[39mself\u001b[39m\u001b[39m.\u001b[39mundobuffer:\n\u001b[1;32m   3164\u001b[0m     \u001b[39mself\u001b[39m\u001b[39m.\u001b[39mundobuffer\u001b[39m.\u001b[39mpush(undo_entry)\n",
      "File \u001b[0;32m/Library/Frameworks/Python.framework/Versions/3.10/lib/python3.10/turtle.py:754\u001b[0m, in \u001b[0;36mTurtleScreenBase._pointlist\u001b[0;34m(self, item)\u001b[0m\n\u001b[1;32m    746\u001b[0m \u001b[39mdef\u001b[39;00m \u001b[39m_pointlist\u001b[39m(\u001b[39mself\u001b[39m, item):\n\u001b[1;32m    747\u001b[0m \u001b[39m    \u001b[39m\u001b[39m\"\"\"returns list of coordinate-pairs of points of item\u001b[39;00m\n\u001b[1;32m    748\u001b[0m \u001b[39m    Example (for insiders):\u001b[39;00m\n\u001b[1;32m    749\u001b[0m \u001b[39m    >>> from turtle import *\u001b[39;00m\n\u001b[0;32m   (...)\u001b[0m\n\u001b[1;32m    752\u001b[0m \u001b[39m    (9.9999999999999982, 0.0)]\u001b[39;00m\n\u001b[1;32m    753\u001b[0m \u001b[39m    >>> \"\"\"\u001b[39;00m\n\u001b[0;32m--> 754\u001b[0m     cl \u001b[39m=\u001b[39m \u001b[39mself\u001b[39;49m\u001b[39m.\u001b[39;49mcv\u001b[39m.\u001b[39;49mcoords(item)\n\u001b[1;32m    755\u001b[0m     pl \u001b[39m=\u001b[39m [(cl[i], \u001b[39m-\u001b[39mcl[i\u001b[39m+\u001b[39m\u001b[39m1\u001b[39m]) \u001b[39mfor\u001b[39;00m i \u001b[39min\u001b[39;00m \u001b[39mrange\u001b[39m(\u001b[39m0\u001b[39m, \u001b[39mlen\u001b[39m(cl), \u001b[39m2\u001b[39m)]\n\u001b[1;32m    756\u001b[0m     \u001b[39mreturn\u001b[39;00m  pl\n",
      "File \u001b[0;32m<string>:1\u001b[0m, in \u001b[0;36mcoords\u001b[0;34m(self, *args, **kw)\u001b[0m\n",
      "File \u001b[0;32m/Library/Frameworks/Python.framework/Versions/3.10/lib/python3.10/tkinter/__init__.py:2795\u001b[0m, in \u001b[0;36mCanvas.coords\u001b[0;34m(self, *args)\u001b[0m\n\u001b[1;32m   2791\u001b[0m \u001b[39m\u001b[39m\u001b[39m\"\"\"Return a list of coordinates for the item given in ARGS.\"\"\"\u001b[39;00m\n\u001b[1;32m   2792\u001b[0m \u001b[39m# XXX Should use _flatten on args\u001b[39;00m\n\u001b[1;32m   2793\u001b[0m \u001b[39mreturn\u001b[39;00m [\u001b[39mself\u001b[39m\u001b[39m.\u001b[39mtk\u001b[39m.\u001b[39mgetdouble(x) \u001b[39mfor\u001b[39;00m x \u001b[39min\u001b[39;00m\n\u001b[1;32m   2794\u001b[0m                    \u001b[39mself\u001b[39m\u001b[39m.\u001b[39mtk\u001b[39m.\u001b[39msplitlist(\n\u001b[0;32m-> 2795\u001b[0m            \u001b[39mself\u001b[39;49m\u001b[39m.\u001b[39;49mtk\u001b[39m.\u001b[39;49mcall((\u001b[39mself\u001b[39;49m\u001b[39m.\u001b[39;49m_w, \u001b[39m'\u001b[39;49m\u001b[39mcoords\u001b[39;49m\u001b[39m'\u001b[39;49m) \u001b[39m+\u001b[39;49m args))]\n",
      "\u001b[0;31mTclError\u001b[0m: invalid command name \".!canvas\""
     ]
    }
   ],
   "source": [
    "\n",
    "\n",
    "game_is_on = True\n",
    "\n",
    "while game_is_on:\n",
    "    screen.update()\n",
    "    sleep(0.1)\n",
    "    snake.move()"
   ]
  },
  {
   "cell_type": "code",
   "execution_count": null,
   "metadata": {},
   "outputs": [],
   "source": [
    "# Closing screen\n",
    "\n",
    "screen.exitonclick()\n"
   ]
  }
 ],
 "metadata": {
  "kernelspec": {
   "display_name": "Python 3",
   "language": "python",
   "name": "python3"
  },
  "language_info": {
   "codemirror_mode": {
    "name": "ipython",
    "version": 3
   },
   "file_extension": ".py",
   "mimetype": "text/x-python",
   "name": "python",
   "nbconvert_exporter": "python",
   "pygments_lexer": "ipython3",
   "version": "3.10.6"
  }
 },
 "nbformat": 4,
 "nbformat_minor": 2
}
