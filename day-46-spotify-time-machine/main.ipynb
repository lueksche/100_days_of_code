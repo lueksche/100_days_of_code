{
 "cells": [
  {
   "cell_type": "markdown",
   "metadata": {},
   "source": [
    "# Get Top 100 Billboard Charts for entered date"
   ]
  },
  {
   "cell_type": "code",
   "execution_count": 113,
   "metadata": {},
   "outputs": [
    {
     "data": {
      "text/plain": [
       "'1990-06-08'"
      ]
     },
     "execution_count": 113,
     "metadata": {},
     "output_type": "execute_result"
    }
   ],
   "source": [
    "date = input(\"Which year do you want to travel to? Type the date in this format YYYY-MM-DD: \")\n",
    "date"
   ]
  },
  {
   "cell_type": "code",
   "execution_count": 126,
   "metadata": {},
   "outputs": [
    {
     "name": "stderr",
     "output_type": "stream",
     "text": [
      "/Users/Lukas.Deibel/code_repository/100_days_of_code/lib/python3.12/site-packages/bs4/__init__.py:228: UserWarning: You provided Unicode markup but also provided a value for from_encoding. Your from_encoding will be ignored.\n",
      "  warnings.warn(\"You provided Unicode markup but also provided a value for from_encoding. Your from_encoding will be ignored.\")\n"
     ]
    }
   ],
   "source": [
    "import requests\n",
    "from bs4 import BeautifulSoup\n",
    "\n",
    "context = requests.get(f\"https://www.billboard.com/charts/hot-100/{date}/\").text\n",
    "soup = BeautifulSoup(context, \"html.parser\", from_encoding=\"utf-8\")"
   ]
  },
  {
   "cell_type": "markdown",
   "metadata": {},
   "source": [
    "<span class=\"c-label  a-font-primary-bold-l u-font-size-32@tablet u-letter-spacing-0080@tablet\">"
   ]
  },
  {
   "cell_type": "markdown",
   "metadata": {},
   "source": [
    "<h3 id=\"title-of-a-story\" class=\"c-title  a-no-trucate a-font-primary-bold-s u-letter-spacing-0021 lrv-u-font-size-18@tablet lrv-u-font-size-16 u-line-height-125 u-line-height-normal@mobile-max a-truncate-ellipsis u-max-width-330 u-max-width-230@tablet-only\">\n",
    "\n",
    "\t\n",
    "\t\n",
    "\t\t\n",
    "\t\t\t\t\tEverything You Want\t\t\n",
    "\t\n",
    "</h3>"
   ]
  },
  {
   "cell_type": "markdown",
   "metadata": {},
   "source": [
    "h3 class=\"c-title a-no-trucate a-font-primary-bold-s u-letter-spacing-0021 lrv-u-font-size-18@tablet lrv-u-font-size-16 u-line-height-125 u-line-height-normal@mobile-max a-truncate-ellipsis u-max-width-330 u-max-width-230@tablet-only\" id=\"title-of-a-story\""
   ]
  },
  {
   "cell_type": "code",
   "execution_count": 115,
   "metadata": {},
   "outputs": [],
   "source": [
    "song_names_spans = soup.select(\"div ul li ul li h3\")\n",
    "song_names = [song_name.get_text(strip=True) for song_name in song_names_spans]"
   ]
  },
  {
   "cell_type": "code",
   "execution_count": 116,
   "metadata": {},
   "outputs": [
    {
     "data": {
      "text/plain": [
       "['Hold On',\n",
       " 'Vogue',\n",
       " 'Poison',\n",
       " 'All I Wanna Do Is Make Love To You',\n",
       " 'It Must Have Been Love (From \"Pretty Woman\")']"
      ]
     },
     "execution_count": 116,
     "metadata": {},
     "output_type": "execute_result"
    }
   ],
   "source": [
    "song_names[:5]"
   ]
  },
  {
   "cell_type": "code",
   "execution_count": 117,
   "metadata": {},
   "outputs": [],
   "source": [
    "artist_names_spans = soup.select(\"li ul li span\")\n",
    "artist_names = [artist_name.get_text(strip=True) for artist_name in artist_names_spans][::7]"
   ]
  },
  {
   "cell_type": "code",
   "execution_count": 118,
   "metadata": {},
   "outputs": [
    {
     "data": {
      "text/plain": [
       "['Wilson Phillips', 'Madonna', 'Bell Biv DeVoe', 'Heart', 'Roxette']"
      ]
     },
     "execution_count": 118,
     "metadata": {},
     "output_type": "execute_result"
    }
   ],
   "source": [
    "artist_names[:5]"
   ]
  },
  {
   "cell_type": "markdown",
   "metadata": {},
   "source": [
    "# Authenticate to Spotify"
   ]
  },
  {
   "cell_type": "code",
   "execution_count": 119,
   "metadata": {},
   "outputs": [
    {
     "data": {
      "text/plain": [
       "('2ec2093386bd4d9fabc19f48828f613b', '1358e693e3ae40fe805ed4577dd767be')"
      ]
     },
     "execution_count": 119,
     "metadata": {},
     "output_type": "execute_result"
    }
   ],
   "source": [
    "import os\n",
    "client_id = os.environ.get(\"SPOTIPY_CLIENT_ID\")\n",
    "client_secret = os.environ.get(\"SPOTIPY_CLIENT_SECRET\")\n",
    "client_id, client_secret"
   ]
  },
  {
   "cell_type": "markdown",
   "metadata": {},
   "source": []
  },
  {
   "cell_type": "code",
   "execution_count": 125,
   "metadata": {},
   "outputs": [],
   "source": [
    "import spotipy\n",
    "from spotipy.oauth2 import SpotifyOAuth\n",
    "\n",
    "sp = spotipy.Spotify(\n",
    "    auth_manager=SpotifyOAuth(\n",
    "        scope=\"playlist-modify-private\",\n",
    "        redirect_uri=\"http://example.com\",\n",
    "        client_id=os.environ.get(\"SPOTIPY_CLIENT_ID\"),\n",
    "        client_secret=os.environ.get(\"SPOTIPY_CLIENT_SECRET\"),\n",
    "        show_dialog=True,\n",
    "        cache_path=\"./token.txt\",\n",
    "        username=\"lueksche\", \n",
    "    )\n",
    ")"
   ]
  },
  {
   "cell_type": "code",
   "execution_count": 121,
   "metadata": {},
   "outputs": [],
   "source": [
    "current_user = sp.current_user().get(\"id\")"
   ]
  },
  {
   "cell_type": "code",
   "execution_count": 122,
   "metadata": {},
   "outputs": [
    {
     "data": {
      "text/plain": [
       "{'collaborative': False,\n",
       " 'description': '',\n",
       " 'external_urls': {'spotify': 'https://open.spotify.com/playlist/4NEAffVOZUYrKW2yk0gE6Y'},\n",
       " 'followers': {'href': None, 'total': 0},\n",
       " 'href': 'https://api.spotify.com/v1/playlists/4NEAffVOZUYrKW2yk0gE6Y',\n",
       " 'id': '4NEAffVOZUYrKW2yk0gE6Y',\n",
       " 'images': [],\n",
       " 'primary_color': None,\n",
       " 'name': 'Billboard Hot 100 - 1990-06-08',\n",
       " 'type': 'playlist',\n",
       " 'uri': 'spotify:playlist:4NEAffVOZUYrKW2yk0gE6Y',\n",
       " 'owner': {'href': 'https://api.spotify.com/v1/users/diabl00d',\n",
       "  'id': 'diabl00d',\n",
       "  'type': 'user',\n",
       "  'uri': 'spotify:user:diabl00d',\n",
       "  'display_name': None,\n",
       "  'external_urls': {'spotify': 'https://open.spotify.com/user/diabl00d'}},\n",
       " 'public': True,\n",
       " 'snapshot_id': 'AAADP9arT8pFDjLqEMR0mbacSXLGskts',\n",
       " 'tracks': {'limit': 100,\n",
       "  'next': None,\n",
       "  'offset': 0,\n",
       "  'previous': None,\n",
       "  'href': 'https://api.spotify.com/v1/playlists/4NEAffVOZUYrKW2yk0gE6Y/tracks',\n",
       "  'total': 0,\n",
       "  'items': []}}"
      ]
     },
     "execution_count": 122,
     "metadata": {},
     "output_type": "execute_result"
    }
   ],
   "source": [
    "sp.user_playlist_create(user=current_user, name=f\"Billboard Hot 100 - {date}\", public=True)"
   ]
  },
  {
   "cell_type": "code",
   "execution_count": 123,
   "metadata": {},
   "outputs": [
    {
     "data": {
      "text/plain": [
       "'spotify:playlist:4NEAffVOZUYrKW2yk0gE6Y'"
      ]
     },
     "execution_count": 123,
     "metadata": {},
     "output_type": "execute_result"
    }
   ],
   "source": [
    "playlist_id = sp.current_user_playlists().get(\"items\")[0].get(\"uri\")\n",
    "playlist_id"
   ]
  },
  {
   "cell_type": "code",
   "execution_count": 124,
   "metadata": {},
   "outputs": [],
   "source": [
    "for song_name, artist_name in zip(song_names, artist_names):\n",
    "    results = sp.search(q=f\"track:{song_name} artist:{artist_name}\", type=\"track\")\n",
    "    if results.get(\"tracks\").get(\"items\"):\n",
    "        track_id = results.get(\"tracks\").get(\"items\")[0].get(\"id\")\n",
    "        sp.playlist_add_items(playlist_id, items=[track_id])"
   ]
  }
 ],
 "metadata": {
  "kernelspec": {
   "display_name": "100_days_of_code",
   "language": "python",
   "name": "python3"
  },
  "language_info": {
   "codemirror_mode": {
    "name": "ipython",
    "version": 3
   },
   "file_extension": ".py",
   "mimetype": "text/x-python",
   "name": "python",
   "nbconvert_exporter": "python",
   "pygments_lexer": "ipython3",
   "version": "3.12.3"
  }
 },
 "nbformat": 4,
 "nbformat_minor": 2
}
