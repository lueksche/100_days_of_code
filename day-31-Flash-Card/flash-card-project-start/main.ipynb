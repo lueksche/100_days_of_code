{
 "cells": [
  {
   "cell_type": "code",
   "execution_count": 34,
   "metadata": {},
   "outputs": [],
   "source": [
    "from tkinter import *\n",
    "import pandas as pd\n",
    "import random"
   ]
  },
  {
   "cell_type": "code",
   "execution_count": 35,
   "metadata": {},
   "outputs": [],
   "source": [
    "BACKGROUND_COLOR = \"#B1DDC6\""
   ]
  },
  {
   "cell_type": "code",
   "execution_count": 36,
   "metadata": {},
   "outputs": [
    {
     "data": {
      "text/plain": [
       "[{'French': 'partie', 'English': 'part'},\n",
       " {'French': 'histoire', 'English': 'history'},\n",
       " {'French': 'chercher', 'English': 'search'},\n",
       " {'French': 'seulement', 'English': 'only'},\n",
       " {'French': 'police', 'English': 'police'},\n",
       " {'French': 'pensais', 'English': 'thought'},\n",
       " {'French': 'aide', 'English': 'help'},\n",
       " {'French': 'demande', 'English': 'request'},\n",
       " {'French': 'genre', 'English': 'kind'},\n",
       " {'French': 'mois', 'English': 'month'},\n",
       " {'French': 'frère', 'English': 'brother'},\n",
       " {'French': 'laisser', 'English': 'let'},\n",
       " {'French': 'car', 'English': 'because'},\n",
       " {'French': 'mettre', 'English': 'to put'},\n",
       " {'French': 'aucun', 'English': 'no'},\n",
       " {'French': 'laisse', 'English': 'leash'},\n",
       " {'French': 'eux', 'English': 'them'},\n",
       " {'French': 'ville', 'English': 'city'},\n",
       " {'French': 'chaque', 'English': 'each'},\n",
       " {'French': 'parlé', 'English': 'speak'},\n",
       " {'French': 'arrivé', 'English': 'come'},\n",
       " {'French': 'devrait', 'English': 'should'},\n",
       " {'French': 'bébé', 'English': 'baby'},\n",
       " {'French': 'longtemps', 'English': 'long time'},\n",
       " {'French': 'heures', 'English': 'hours'},\n",
       " {'French': 'vont', 'English': 'will'},\n",
       " {'French': 'pendant', 'English': 'while'},\n",
       " {'French': 'revoir', 'English': 'meet again'},\n",
       " {'French': 'aucune', 'English': 'any'},\n",
       " {'French': 'place', 'English': 'square'},\n",
       " {'French': 'parle', 'English': 'speak'},\n",
       " {'French': 'compris', 'English': 'understood'},\n",
       " {'French': 'savais', 'English': 'knew'},\n",
       " {'French': 'étaient', 'English': 'were'},\n",
       " {'French': 'attention', 'English': 'Warning'},\n",
       " {'French': 'voici', 'English': 'here is'},\n",
       " {'French': 'pourrais', 'English': 'could'},\n",
       " {'French': 'affaire', 'English': 'case'},\n",
       " {'French': 'donner', 'English': 'give'},\n",
       " {'French': 'type', 'English': 'type'},\n",
       " {'French': 'leurs', 'English': 'their'},\n",
       " {'French': 'donné', 'English': 'given'},\n",
       " {'French': 'train', 'English': 'train'},\n",
       " {'French': 'corps', 'English': 'body'},\n",
       " {'French': 'endroit', 'English': 'place'},\n",
       " {'French': 'yeux', 'English': 'eyes'},\n",
       " {'French': 'façon', 'English': 'way'},\n",
       " {'French': 'écoute', 'English': 'listen'},\n",
       " {'French': 'dont', 'English': 'whose'},\n",
       " {'French': 'trouve', 'English': 'find'},\n",
       " {'French': 'premier', 'English': 'first'},\n",
       " {'French': 'perdu', 'English': 'lost'},\n",
       " {'French': 'main', 'English': 'hand'},\n",
       " {'French': 'première', 'English': 'first'},\n",
       " {'French': 'côté', 'English': 'side'},\n",
       " {'French': 'pouvoir', 'English': 'power'},\n",
       " {'French': 'vieux', 'English': 'old'},\n",
       " {'French': 'sois', 'English': 'be'},\n",
       " {'French': 'tiens', 'English': 'here'},\n",
       " {'French': 'matin', 'English': 'morning'},\n",
       " {'French': 'tellement', 'English': 'so much'},\n",
       " {'French': 'enfant', 'English': 'child'},\n",
       " {'French': 'point', 'English': 'point'},\n",
       " {'French': 'venu', 'English': 'came'},\n",
       " {'French': 'suite', 'English': 'after'},\n",
       " {'French': 'pardon', 'English': 'sorry'},\n",
       " {'French': 'venez', 'English': 'come'},\n",
       " {'French': 'devant', 'English': 'in front of'},\n",
       " {'French': 'vers', 'English': 'towards'},\n",
       " {'French': 'minutes', 'English': 'minutes'},\n",
       " {'French': 'demandé', 'English': 'request'},\n",
       " {'French': 'chambre', 'English': 'bedroom'},\n",
       " {'French': 'belle', 'English': 'beautiful'},\n",
       " {'French': 'droit', 'English': 'law'},\n",
       " {'French': 'aimerais', 'English': 'would like to'},\n",
       " {'French': \"aujourd'hui\", 'English': 'today'},\n",
       " {'French': 'mari', 'English': 'husband'},\n",
       " {'French': 'cause', 'English': 'cause'},\n",
       " {'French': 'enfin', 'English': 'finally'},\n",
       " {'French': 'espère', 'English': 'hope'},\n",
       " {'French': 'eau', 'English': 'water'},\n",
       " {'French': 'attendez', 'English': 'Wait'},\n",
       " {'French': 'parti', 'English': 'left'},\n",
       " {'French': 'nouvelle', 'English': 'new'},\n",
       " {'French': 'boulot', 'English': 'job'},\n",
       " {'French': 'arrêter', 'English': 'Stop'},\n",
       " {'French': 'dirait', 'English': 'would say'},\n",
       " {'French': 'terre', 'English': 'Earth'},\n",
       " {'French': 'compte', 'English': 'account'},\n",
       " {'French': 'donne', 'English': 'given'},\n",
       " {'French': 'loin', 'English': 'far'},\n",
       " {'French': 'fin', 'English': 'end'},\n",
       " {'French': 'croire', 'English': 'believe'},\n",
       " {'French': 'chérie', 'English': 'sweetheart'},\n",
       " {'French': 'gros', 'English': 'large'},\n",
       " {'French': 'plutôt', 'English': 'rather'},\n",
       " {'French': 'aura', 'English': 'will have'},\n",
       " {'French': 'filles', 'English': 'girls'},\n",
       " {'French': 'jouer', 'English': 'to play'},\n",
       " {'French': 'bureau', 'English': 'office'}]"
      ]
     },
     "execution_count": 36,
     "metadata": {},
     "output_type": "execute_result"
    }
   ],
   "source": [
    "# Import .csv file\n",
    "\n",
    "try:\n",
    "    with open('data/words_to_learn.csv') as file:\n",
    "        df = pd.read_csv(file)\n",
    "\n",
    "except:\n",
    "    with open('data/french_words.csv') as file:\n",
    "        df = pd.read_csv(file)\n",
    "else:\n",
    "    with open('data/words_to_learn.csv') as file:\n",
    "        df = pd.read_csv(file)\n",
    "\n",
    "to_learn = df.to_dict(orient=\"records\")\n",
    "to_learn"
   ]
  },
  {
   "cell_type": "code",
   "execution_count": 37,
   "metadata": {},
   "outputs": [],
   "source": [
    "def flip_card():\n",
    "    window.after(3000)\n",
    "    canvas.itemconfig(card_title, text='English', fill=\"white\")\n",
    "    canvas.itemconfig(card_word, text=current_card[\"English\"], fill=\"white\")\n",
    "    canvas.itemconfig(background_image, image=card_back_image)"
   ]
  },
  {
   "cell_type": "code",
   "execution_count": 38,
   "metadata": {},
   "outputs": [],
   "source": [
    "def next_card():\n",
    "    global current_card, flip_timer\n",
    "    window.after_cancel(flip_timer)\n",
    "    current_card = random.choice(to_learn)\n",
    "    canvas.itemconfig(card_title, text='French', fill=\"black\")\n",
    "    canvas.itemconfig(card_word, text=current_card[\"French\"], fill=\"black\")\n",
    "    canvas.itemconfig(background_image, image=card_front_image)\n",
    "    flip_timer = window.after(3000, func=flip_card)"
   ]
  },
  {
   "cell_type": "code",
   "execution_count": 39,
   "metadata": {},
   "outputs": [],
   "source": [
    "def right_button_click():\n",
    "    to_learn.remove(current_card)\n",
    "    df = pd.DataFrame(to_learn)\n",
    "    df.to_csv('data/words_to_learn.csv', index=False)\n",
    "    next_card()"
   ]
  },
  {
   "cell_type": "code",
   "execution_count": 40,
   "metadata": {},
   "outputs": [],
   "source": [
    "# Window\n",
    "window = Tk()\n",
    "window.title(\"Flashy\")\n",
    "window.config(padx=50, pady=50, background=BACKGROUND_COLOR)\n",
    "card_front_image = PhotoImage(file=\"images/card_front.png\")\n",
    "card_back_image = PhotoImage(file=\"images/card_back.png\")\n",
    "flip_timer = window.after(3000,func=flip_card)\n",
    "current_card = {}"
   ]
  },
  {
   "cell_type": "code",
   "execution_count": 41,
   "metadata": {},
   "outputs": [],
   "source": [
    "# Flashcard\n",
    "\n",
    "# Canvas\n",
    "canvas = Canvas(width=800, height=526, background=BACKGROUND_COLOR, highlightthickness=0)\n",
    "background_image = canvas.create_image(400, 263, image=card_front_image)\n",
    "card_title = canvas.create_text(400, 150, text=\"French\", fill='black', font=('Ariel', 40, \"italic\"))\n",
    "card_word = canvas.create_text(400, 283, text='Word', fill='black', font=('Ariel', 60, \"bold\"))\n",
    "canvas.grid(column=0, row=0, columnspan=2)"
   ]
  },
  {
   "cell_type": "code",
   "execution_count": 42,
   "metadata": {},
   "outputs": [],
   "source": [
    "\n",
    "# Right button\n",
    "button_right_image = PhotoImage(file=\"images/right.png\")\n",
    "right_button = Button(image=button_right_image, command=right_button_click)\n",
    "right_button.grid(column=1, row=1)\n",
    "\n",
    "# Wrong button\n",
    "button_wrong_image = PhotoImage(file=\"images/wrong.png\")\n",
    "wrong_button = Button(image=button_wrong_image, command=next_card)\n",
    "wrong_button.grid(column=0, row=1)"
   ]
  },
  {
   "cell_type": "code",
   "execution_count": 43,
   "metadata": {},
   "outputs": [],
   "source": [
    "\n",
    "next_card()\n"
   ]
  },
  {
   "cell_type": "code",
   "execution_count": 44,
   "metadata": {},
   "outputs": [
    {
     "ename": "",
     "evalue": "",
     "output_type": "error",
     "traceback": [
      "\u001b[1;31mThe Kernel crashed while executing code in the current cell or a previous cell. \n",
      "\u001b[1;31mPlease review the code in the cell(s) to identify a possible cause of the failure. \n",
      "\u001b[1;31mClick <a href='https://aka.ms/vscodeJupyterKernelCrash'>here</a> for more info. \n",
      "\u001b[1;31mView Jupyter <a href='command:jupyter.viewOutput'>log</a> for further details."
     ]
    }
   ],
   "source": [
    "window.mainloop()"
   ]
  }
 ],
 "metadata": {
  "kernelspec": {
   "display_name": "Python 3",
   "language": "python",
   "name": "python3"
  },
  "language_info": {
   "codemirror_mode": {
    "name": "ipython",
    "version": 3
   },
   "file_extension": ".py",
   "mimetype": "text/x-python",
   "name": "python",
   "nbconvert_exporter": "python",
   "pygments_lexer": "ipython3",
   "version": "3.12.3"
  }
 },
 "nbformat": 4,
 "nbformat_minor": 2
}
