{
 "cells": [
  {
   "cell_type": "code",
   "execution_count": null,
   "metadata": {},
   "outputs": [],
   "source": [
    "%pip install pandas"
   ]
  },
  {
   "cell_type": "code",
   "execution_count": null,
   "metadata": {},
   "outputs": [],
   "source": [
    "# Keyword Method with iterrows()\n",
    "# {new_key:new_value for (index, row) in df.iterrows()}\n",
    "\n",
    "import pandas\n",
    "import os\n"
   ]
  },
  {
   "cell_type": "code",
   "execution_count": 16,
   "metadata": {},
   "outputs": [
    {
     "name": "stdout",
     "output_type": "stream",
     "text": [
      "{'A': 'Alfa', 'B': 'Bravo', 'C': 'Charlie', 'D': 'Delta', 'E': 'Echo', 'F': 'Foxtrot', 'G': 'Golf', 'H': 'Hotel', 'I': 'India', 'J': 'Juliet', 'K': 'Kilo', 'L': 'Lima', 'M': 'Mike', 'N': 'November', 'O': 'Oscar', 'P': 'Papa', 'Q': 'Quebec', 'R': 'Romeo', 'S': 'Sierra', 'T': 'Tango', 'U': 'Uniform', 'V': 'Victor', 'W': 'Whiskey', 'X': 'X-ray', 'Y': 'Yankee', 'Z': 'Zulu'}\n",
      "Please enter only letters\n",
      "Please enter only letters\n",
      "['Alfa', 'Sierra']\n"
     ]
    }
   ],
   "source": [
    "data = pandas.read_csv(\"nato_phonetic_alphabet.csv\")\n",
    "\n",
    "#TODO 1. Create a dictionary in this format:\n",
    "phonetic_dict = {row.letter: row.code for (index, row) in data.iterrows()}\n",
    "print(phonetic_dict)\n",
    "\n",
    "#TODO 2. Create a list of the phonetic code words from a word that the user inputs.\n",
    "\n",
    "def translate_to_code():   \n",
    "    word = input(\"Enter a word: \").upper()\n",
    "    try: \n",
    "        output_list = [phonetic_dict[letter] for letter in word]\n",
    "    except KeyError: \n",
    "        print(\"Please enter only letters\")\n",
    "        translate_to_code()\n",
    "    else:\n",
    "        print(output_list)\n",
    "\n",
    "translate_to_code()\n"
   ]
  },
  {
   "cell_type": "code",
   "execution_count": null,
   "metadata": {},
   "outputs": [],
   "source": []
  }
 ],
 "metadata": {
  "kernelspec": {
   "display_name": "Python 3",
   "language": "python",
   "name": "python3"
  },
  "language_info": {
   "codemirror_mode": {
    "name": "ipython",
    "version": 3
   },
   "file_extension": ".py",
   "mimetype": "text/x-python",
   "name": "python",
   "nbconvert_exporter": "python",
   "pygments_lexer": "ipython3",
   "version": "3.12.2"
  }
 },
 "nbformat": 4,
 "nbformat_minor": 2
}
