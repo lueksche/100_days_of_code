{
 "cells": [
  {
   "cell_type": "markdown",
   "metadata": {},
   "source": [
    "- Let the user guess a state\n",
    "- Convert guess to Title case\n",
    "- Check if the guess is among the 50 states\n",
    "- Write correct guesses onto the map\n",
    "- Use a loop to allow the user to keep guessing\n",
    "- Record the correct guesses in a list\n",
    "- Keep track of the score"
   ]
  },
  {
   "cell_type": "code",
   "execution_count": 1,
   "metadata": {},
   "outputs": [],
   "source": [
    "import turtle\n",
    "import pandas as pd\n",
    "image = \"blank_states_img.gif\""
   ]
  },
  {
   "cell_type": "markdown",
   "metadata": {},
   "source": [
    "screen = turtle.Screen()\n",
    "screen.title(\"U.S. States Game\")"
   ]
  },
  {
   "cell_type": "code",
   "execution_count": 2,
   "metadata": {},
   "outputs": [
    {
     "name": "stderr",
     "output_type": "stream",
     "text": [
      "2024-02-08 18:32:25.464 Python[6326:9750797] WARNING: Secure coding is not enabled for restorable state! Enable secure coding by implementing NSApplicationDelegate.applicationSupportsSecureRestorableState: and returning YES.\n"
     ]
    }
   ],
   "source": [
    "screen = turtle.Screen()\n",
    "screen.addshape(image)\n",
    "turtle.shape(image)"
   ]
  },
  {
   "cell_type": "code",
   "execution_count": 3,
   "metadata": {},
   "outputs": [],
   "source": [
    "# # Get Coordinates for states by clicking on the map\n",
    "# def get_mouse_click_coor(x, y):\n",
    "#     print(x, y)\n",
    "\n",
    "# turtle.onscreenclick(get_mouse_click_coor)"
   ]
  },
  {
   "cell_type": "code",
   "execution_count": 4,
   "metadata": {},
   "outputs": [],
   "source": [
    "# Import state data\n",
    "\n",
    "with open(\"50_states.csv\") as state_data_file:\n",
    "    state_data = pd.read_csv(state_data_file)\n",
    "\n",
    "states_list = state_data.state.to_list()"
   ]
  },
  {
   "cell_type": "code",
   "execution_count": 5,
   "metadata": {},
   "outputs": [],
   "source": [
    "def display_state(user_guess, x, y):\n",
    "    state = turtle.Turtle()\n",
    "    state.hideturtle()\n",
    "    state.penup()\n",
    "    state.goto(x,y)\n",
    "    state.write(user_guess)\n",
    "    return state\n",
    "    "
   ]
  },
  {
   "cell_type": "code",
   "execution_count": 6,
   "metadata": {},
   "outputs": [],
   "source": [
    "def extract_state_coordinates(user_guess, state_data):\n",
    "    state_x = int(state_data.x[state_data.state == user_guess])\n",
    "    state_y = int(state_data.y[state_data.state == user_guess])\n",
    "    return state_x, state_y"
   ]
  },
  {
   "cell_type": "code",
   "execution_count": 7,
   "metadata": {},
   "outputs": [],
   "source": [
    "# User Guess\n",
    "state_count = 0\n",
    "guessed_states = []\n",
    "missing_states = []\n",
    "game_is_on = True\n",
    "\n",
    "while game_is_on:\n",
    "    user_guess = screen.textinput(f\"{state_count}/50 States Correct\", prompt= \"What's another state name?\").title()\n",
    "    if user_guess == \"Exit\":\n",
    "        for state in states_list:\n",
    "            if state not in guessed_states:\n",
    "                missing_states.append(state)\n",
    "        new_data = pd.DataFrame(missing_states)\n",
    "        new_data.to_csv(\"states_to_learn\")\n",
    "        break\n",
    "    if user_guess in states_list and user_guess not in guessed_states:\n",
    "        state_count += 1\n",
    "        state_x, state_y = extract_state_coordinates(user_guess,state_data)\n",
    "        display_state(user_guess, state_x, state_y)\n",
    "    if state_count == 50:\n",
    "        game_is_on = False\n",
    "\n",
    "    \n",
    "\n"
   ]
  },
  {
   "cell_type": "code",
   "execution_count": null,
   "metadata": {},
   "outputs": [],
   "source": []
  },
  {
   "cell_type": "code",
   "execution_count": 8,
   "metadata": {},
   "outputs": [],
   "source": [
    "screen.mainloop()"
   ]
  }
 ],
 "metadata": {
  "kernelspec": {
   "display_name": "Python 3",
   "language": "python",
   "name": "python3"
  },
  "language_info": {
   "codemirror_mode": {
    "name": "ipython",
    "version": 3
   },
   "file_extension": ".py",
   "mimetype": "text/x-python",
   "name": "python",
   "nbconvert_exporter": "python",
   "pygments_lexer": "ipython3",
   "version": "3.10.6"
  }
 },
 "nbformat": 4,
 "nbformat_minor": 2
}
