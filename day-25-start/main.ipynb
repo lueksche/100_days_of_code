{
 "cells": [
  {
   "cell_type": "code",
   "execution_count": 24,
   "metadata": {},
   "outputs": [],
   "source": [
    "import csv\n",
    "import pandas as pd"
   ]
  },
  {
   "cell_type": "code",
   "execution_count": 22,
   "metadata": {},
   "outputs": [
    {
     "name": "stdout",
     "output_type": "stream",
     "text": [
      "[12, 14, 15, 14, 21, 22, 24]\n"
     ]
    }
   ],
   "source": [
    "# with open(\"weather_data.csv\") as data_file:\n",
    "#     data = csv.reader(data_file)\n",
    "#     temperatures = []\n",
    "#     for row in data:\n",
    "#         if row[1] != 'temp':\n",
    "#             temperatures.append(int(row[1]))\n",
    "#     print(temperatures)\n",
    "    \n",
    "    "
   ]
  },
  {
   "cell_type": "code",
   "execution_count": 37,
   "metadata": {},
   "outputs": [
    {
     "name": "stdout",
     "output_type": "stream",
     "text": [
      "17.428571428571427\n",
      "17.428571428571427\n"
     ]
    }
   ],
   "source": [
    "data = pd.read_csv(\"weather_data.csv\")\n",
    "avg_temperature = data[\"temp\"].mean()\n",
    "print(avg_temperature)\n",
    "\n",
    "# columns are automatically represented as an attribut\n",
    "avg_temperature = data.temp.mean()\n",
    "print(avg_temperature)\n"
   ]
  },
  {
   "cell_type": "code",
   "execution_count": 38,
   "metadata": {},
   "outputs": [
    {
     "name": "stdout",
     "output_type": "stream",
     "text": [
      "      day  temp condition\n",
      "6  Sunday    24     Sunny\n"
     ]
    }
   ],
   "source": [
    "# Which day had the highest temperature of the week\n",
    "max_temperature = data.temp.max()\n",
    "print(data[data.temp == max_temperature])"
   ]
  },
  {
   "cell_type": "code",
   "execution_count": 43,
   "metadata": {},
   "outputs": [
    {
     "name": "stdout",
     "output_type": "stream",
     "text": [
      "53.6\n"
     ]
    }
   ],
   "source": [
    "# Get Mondays temperature in Fahrenheit\n",
    "monday_data = data[data.day == \"Monday\"]\n",
    "monday_temp_fahrenheit = monday_data.temp[0] * 9/5 +32\n",
    "print(monday_temp_fahrenheit)\n"
   ]
  }
 ],
 "metadata": {
  "kernelspec": {
   "display_name": "Python 3",
   "language": "python",
   "name": "python3"
  },
  "language_info": {
   "codemirror_mode": {
    "name": "ipython",
    "version": 3
   },
   "file_extension": ".py",
   "mimetype": "text/x-python",
   "name": "python",
   "nbconvert_exporter": "python",
   "pygments_lexer": "ipython3",
   "version": "3.10.6"
  }
 },
 "nbformat": 4,
 "nbformat_minor": 2
}
