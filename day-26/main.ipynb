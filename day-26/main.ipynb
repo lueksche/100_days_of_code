{
 "cells": [
  {
   "cell_type": "code",
   "execution_count": 2,
   "metadata": {},
   "outputs": [
    {
     "name": "stdout",
     "output_type": "stream",
     "text": [
      "['L', 'u', 'k', 'a', 's']\n"
     ]
    }
   ],
   "source": [
    "name = 'Lukas'\n",
    "new_list = [letter for letter in name]\n",
    "print(new_list)"
   ]
  },
  {
   "cell_type": "code",
   "execution_count": 3,
   "metadata": {},
   "outputs": [
    {
     "name": "stdout",
     "output_type": "stream",
     "text": [
      "[2, 4, 6, 8]\n"
     ]
    }
   ],
   "source": [
    "range_list = [number * 2 for number in range(1,5)]\n",
    "print(range_list)"
   ]
  },
  {
   "cell_type": "code",
   "execution_count": 4,
   "metadata": {},
   "outputs": [
    {
     "name": "stdout",
     "output_type": "stream",
     "text": [
      "['Alex', 'Beth', 'Dave']\n"
     ]
    }
   ],
   "source": [
    "names_list = [\"Alex\", \"Beth\", \"Dave\", \"Eleanor\", \"Freddie\", \"Caroline\"]\n",
    "\n",
    "short_name_list = [name for name in names_list if len(name) < 5]\n",
    "print(short_name_list)"
   ]
  },
  {
   "cell_type": "code",
   "execution_count": 5,
   "metadata": {},
   "outputs": [
    {
     "name": "stdout",
     "output_type": "stream",
     "text": [
      "['ELEANOR', 'FREDDIE', 'CAROLINE']\n"
     ]
    }
   ],
   "source": [
    "long_name_list = [name.upper() for name in names_list if len(name) > 5]\n",
    "print(long_name_list)"
   ]
  },
  {
   "cell_type": "code",
   "execution_count": 8,
   "metadata": {},
   "outputs": [
    {
     "name": "stdout",
     "output_type": "stream",
     "text": [
      "{'Beth': 59, 'Freddie': 57, 'Caroline': 87}\n"
     ]
    }
   ],
   "source": [
    "import random\n",
    "student_scores_dict = {student:random.randint(1, 100) for student in names_list}\n",
    "\n",
    "passed_students_dict = {student:score for (student, score) in student_scores_dict.items() if score > 50}\n",
    "\n",
    "print(passed_students_dict)"
   ]
  }
 ],
 "metadata": {
  "kernelspec": {
   "display_name": "Python 3",
   "language": "python",
   "name": "python3"
  },
  "language_info": {
   "codemirror_mode": {
    "name": "ipython",
    "version": 3
   },
   "file_extension": ".py",
   "mimetype": "text/x-python",
   "name": "python",
   "nbconvert_exporter": "python",
   "pygments_lexer": "ipython3",
   "version": "3.10.6"
  }
 },
 "nbformat": 4,
 "nbformat_minor": 2
}
