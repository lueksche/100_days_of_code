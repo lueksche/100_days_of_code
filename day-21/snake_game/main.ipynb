{
 "cells": [
  {
   "cell_type": "markdown",
   "metadata": {},
   "source": [
    "Build a snake game with Turtle package"
   ]
  },
  {
   "cell_type": "code",
   "execution_count": 1,
   "metadata": {},
   "outputs": [],
   "source": [
    "# Imorting needed packages\n",
    "\n",
    "from turtle import Screen\n",
    "from snake import Snake\n",
    "from food import Food\n",
    "from scoreboard import Scoreboard\n",
    "from time import sleep\n"
   ]
  },
  {
   "cell_type": "code",
   "execution_count": 2,
   "metadata": {},
   "outputs": [],
   "source": [
    "# Setting up screen\n",
    "\n",
    "screen = Screen()\n",
    "screen.setup(width=600, height=600)\n",
    "screen.bgcolor(\"black\")\n",
    "screen.title(\"My Snake Game\")\n",
    "screen.tracer(0)"
   ]
  },
  {
   "cell_type": "code",
   "execution_count": null,
   "metadata": {},
   "outputs": [
    {
     "ename": "",
     "evalue": "",
     "output_type": "error",
     "traceback": [
      "\u001b[1;31mRunning cells with '/usr/bin/python3' requires the ipykernel package.\n",
      "\u001b[1;31mRun the following command to install 'ipykernel' into the Python environment. \n",
      "\u001b[1;31mCommand: '/usr/bin/python3 -m pip install ipykernel -U --user --force-reinstall'"
     ]
    }
   ],
   "source": [
    "# Initiating objects\n",
    "\n",
    "snake = Snake()\n",
    "food = Food()\n",
    "scoreboard = Scoreboard()"
   ]
  },
  {
   "cell_type": "markdown",
   "metadata": {},
   "source": []
  },
  {
   "cell_type": "code",
   "execution_count": null,
   "metadata": {},
   "outputs": [
    {
     "ename": "",
     "evalue": "",
     "output_type": "error",
     "traceback": [
      "\u001b[1;31mRunning cells with '/usr/bin/python3' requires the ipykernel package.\n",
      "\u001b[1;31mRun the following command to install 'ipykernel' into the Python environment. \n",
      "\u001b[1;31mCommand: '/usr/bin/python3 -m pip install ipykernel -U --user --force-reinstall'"
     ]
    }
   ],
   "source": [
    "# Listening events\n",
    "\n",
    "# Running the game\n",
    "screen.listen()\n",
    "\n",
    "for arrow_key, direction in snake.controls.items():\n",
    "    screen.onkey(key=arrow_key, fun=direction)"
   ]
  },
  {
   "cell_type": "code",
   "execution_count": null,
   "metadata": {},
   "outputs": [
    {
     "ename": "",
     "evalue": "",
     "output_type": "error",
     "traceback": [
      "\u001b[1;31mRunning cells with '/usr/bin/python3' requires the ipykernel package.\n",
      "\u001b[1;31mRun the following command to install 'ipykernel' into the Python environment. \n",
      "\u001b[1;31mCommand: '/usr/bin/python3 -m pip install ipykernel -U --user --force-reinstall'"
     ]
    }
   ],
   "source": [
    "\n",
    "\n",
    "game_is_on = True\n",
    "\n",
    "while game_is_on:\n",
    "    screen.update()\n",
    "    sleep(0.1)\n",
    "    snake.move()\n",
    "\n",
    "    if snake.head.distance(food) < 15:\n",
    "        food.refresh()\n",
    "        snake.extend()\n",
    "        scoreboard.update()\n",
    "\n",
    "    # Detect collision with wall.\n",
    "    \n",
    "    if snake.head.xcor() > 280 or snake.head.xcor() < -288 or snake.head.ycor() > 280 or snake.head.ycor() < -280:\n",
    "        scoreboard.game_over()\n",
    "        game_is_on = False\n",
    "\n",
    "    # Detect collision with tail.\n",
    "    \n",
    "    for segment in snake.segments_list[1:]:\n",
    "        if snake.head.distance(segment) < 10:\n",
    "            scoreboard.game_over()\n",
    "            game_is_on = False\n",
    "        \n"
   ]
  },
  {
   "cell_type": "code",
   "execution_count": null,
   "metadata": {},
   "outputs": [
    {
     "ename": "",
     "evalue": "",
     "output_type": "error",
     "traceback": [
      "\u001b[1;31mRunning cells with '/usr/bin/python3' requires the ipykernel package.\n",
      "\u001b[1;31mRun the following command to install 'ipykernel' into the Python environment. \n",
      "\u001b[1;31mCommand: '/usr/bin/python3 -m pip install ipykernel -U --user --force-reinstall'"
     ]
    }
   ],
   "source": [
    "# Closing screen\n",
    "\n",
    "screen.exitonclick()\n"
   ]
  }
 ],
 "metadata": {
  "kernelspec": {
   "display_name": "Python 3",
   "language": "python",
   "name": "python3"
  },
  "language_info": {
   "codemirror_mode": {
    "name": "ipython",
    "version": 3
   },
   "file_extension": ".py",
   "mimetype": "text/x-python",
   "name": "python",
   "nbconvert_exporter": "python",
   "pygments_lexer": "ipython3",
   "version": "3.9.6"
  }
 },
 "nbformat": 4,
 "nbformat_minor": 2
}
