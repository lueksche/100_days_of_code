{
 "cells": [
  {
   "cell_type": "code",
   "execution_count": 36,
   "metadata": {},
   "outputs": [
    {
     "name": "stdout",
     "output_type": "stream",
     "text": [
      "++\n",
      "||\n",
      "++\n",
      "++\n",
      "+--------------+----------+\n",
      "| Pokemon Name | Type     |\n",
      "+--------------+----------+\n",
      "| Pikachu      | Electric |\n",
      "| Squirtle     | Water    |\n",
      "| Charmander   | Fire     |\n",
      "+--------------+----------+\n"
     ]
    }
   ],
   "source": [
    "# from turtle import Turtle, Screen\n",
    "\n",
    "# #Create turtle object and change attributes\n",
    "# timmy = Turtle()\n",
    "# timmy.shape(\"turtle\")\n",
    "# timmy.color(\"DarkSeaGreen4\")\n",
    "# #Move the turtle forward by 100 paces\n",
    "# timmy.forward(100)\n",
    "\n",
    "\n",
    "# #Call screen class methods\n",
    "# my_screen = Screen()\n",
    "# my_screen.exitonclick()\n",
    "\n",
    "from prettytable import PrettyTable\n",
    "table = PrettyTable()\n",
    "print(table)\n",
    "\n",
    "# # Example\n",
    "# table.field_names = [\"City name\", \"Area\", \"Population\", \"Annual Rainfall\"]\n",
    "# table.add_row([\"Adelaide\", 1295, 1158259, 600.5])\n",
    "# table.add_row([\"Brisbane\", 5905, 1857594, 1146.4])\n",
    "# table.add_row([\"Darwin\", 112, 120900, 1714.7])\n",
    "# table.add_row([\"Hobart\", 1357, 205556, 619.5])\n",
    "# table.add_row([\"Sydney\", 2058, 4336374, 1214.8])\n",
    "# table.add_row([\"Melbourne\", 1566, 3806092, 646.9])\n",
    "# table.add_row([\"Perth\", 5386, 1554769, 869.4])\n",
    "# table.clear_rows()\n",
    "\n",
    "table.field_names = [\"Pokemon Name\",\"Type\"]\n",
    "table.add_row([\"Pikachu\", \"Electric\"])\n",
    "table.add_row([\"Squirtle\",\"Water\"])\n",
    "table.add_row([\"Charmander\",\"Fire\"])\n",
    "\n",
    "table.align = \"l\"\n",
    "\n",
    "print(table)"
   ]
  }
 ],
 "metadata": {
  "kernelspec": {
   "display_name": "Python 3",
   "language": "python",
   "name": "python3"
  },
  "language_info": {
   "codemirror_mode": {
    "name": "ipython",
    "version": 3
   },
   "file_extension": ".py",
   "mimetype": "text/x-python",
   "name": "python",
   "nbconvert_exporter": "python",
   "pygments_lexer": "ipython3",
   "version": "3.10.6"
  }
 },
 "nbformat": 4,
 "nbformat_minor": 2
}
