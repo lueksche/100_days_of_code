{
 "cells": [
  {
   "cell_type": "code",
   "execution_count": 1,
   "metadata": {},
   "outputs": [],
   "source": [
    "#Import packages\n",
    "# import colorgram as cg\n",
    "import turtle as t\n",
    "from turtle import Screen\n",
    "import random"
   ]
  },
  {
   "cell_type": "code",
   "execution_count": 2,
   "metadata": {},
   "outputs": [],
   "source": [
    "# #Extracting 10 colors from picture\n",
    "# colors = cg.extract(\"/Users/Lukas.Deibel/Coding/100days_of_code/day-18-start/dots.jpg\", 10)\n",
    "\n",
    "# rgb_colors = []\n",
    "# for color in colors:\n",
    "#     r = color.rgb.r\n",
    "#     g = color.rgb.g\n",
    "#     b = color.rgb.b\n",
    "#     new_color = (r, g, b)\n",
    "#     rgb_colors.append(new_color)\n",
    "\n",
    "rgb_colors = [(191, 166, 117), (140, 166, 189), (59, 101, 137), (138, 91, 53), (13, 23, 54), (220, 206, 126)]\n"
   ]
  },
  {
   "cell_type": "code",
   "execution_count": 3,
   "metadata": {},
   "outputs": [
    {
     "name": "stderr",
     "output_type": "stream",
     "text": [
      "2023-12-21 11:36:06.243 Python[99034:2342196] WARNING: Secure coding is not enabled for restorable state! Enable secure coding by implementing NSApplicationDelegate.applicationSupportsSecureRestorableState: and returning YES.\n"
     ]
    }
   ],
   "source": [
    "# Turtle attributes\n",
    "t.colormode(255)\n",
    "\n",
    "hirstle = t.Turtle()\n",
    "hirstle.shape(\"turtle\")\n",
    "hirstle.speed(\"fastest\")\n",
    "hirstle.hideturtle()\n"
   ]
  },
  {
   "cell_type": "code",
   "execution_count": 4,
   "metadata": {},
   "outputs": [],
   "source": [
    "#Random Color Function\n",
    "def change_pen_color():\n",
    "    hirstle.pencolor(random.choice(rgb_colors))\n",
    "\n",
    "raster = 10\n",
    "\n",
    "for i in range(raster):\n",
    "    hirstle_ycor = -200 + 50*i\n",
    "    hirstle.penup()\n",
    "    hirstle.goto(-225,hirstle_ycor)\n",
    "    for i in range(raster):\n",
    "        change_pen_color()\n",
    "        hirstle.dot(20)\n",
    "        hirstle.penup()\n",
    "        hirstle.forward(50)\n"
   ]
  },
  {
   "cell_type": "code",
   "execution_count": 5,
   "metadata": {},
   "outputs": [],
   "source": [
    "my_screen = Screen()\n",
    "my_screen.screensize(1000,1000)\n",
    "my_screen.exitonclick()\n"
   ]
  },
  {
   "cell_type": "code",
   "execution_count": null,
   "metadata": {},
   "outputs": [],
   "source": [
    "Markdown"
   ]
  }
 ],
 "metadata": {
  "kernelspec": {
   "display_name": "Python 3",
   "language": "python",
   "name": "python3"
  },
  "language_info": {
   "codemirror_mode": {
    "name": "ipython",
    "version": 3
   },
   "file_extension": ".py",
   "mimetype": "text/x-python",
   "name": "python",
   "nbconvert_exporter": "python",
   "pygments_lexer": "ipython3",
   "version": "3.10.6"
  }
 },
 "nbformat": 4,
 "nbformat_minor": 2
}
