{
 "cells": [
  {
   "cell_type": "code",
   "execution_count": 1,
   "metadata": {},
   "outputs": [],
   "source": [
    "#Importing packages\n",
    "\n",
    "from turtle import Screen\n",
    "from paddle import Paddle\n",
    "from time import sleep\n",
    "from ball import Ball\n",
    "from scoreboard import Scoreboard\n",
    "from line import Line"
   ]
  },
  {
   "cell_type": "code",
   "execution_count": 2,
   "metadata": {},
   "outputs": [
    {
     "name": "stderr",
     "output_type": "stream",
     "text": [
      "2024-01-11 11:33:36.358 Python[49220:913006] WARNING: Secure coding is not enabled for restorable state! Enable secure coding by implementing NSApplicationDelegate.applicationSupportsSecureRestorableState: and returning YES.\n"
     ]
    }
   ],
   "source": [
    "#Initiating screen\n",
    "\n",
    "screen = Screen()\n",
    "\n",
    "#Setting up screen\n",
    "\n",
    "screen = Screen()\n",
    "screen.setup(width=800, height=600)\n",
    "screen.bgcolor(\"black\")\n",
    "screen.title(\"My Pong Game\")\n",
    "screen.tracer(0)"
   ]
  },
  {
   "cell_type": "code",
   "execution_count": 3,
   "metadata": {},
   "outputs": [],
   "source": [
    "# Initiating paddles\n",
    "\n",
    "paddle_left = Paddle()\n",
    "paddle_left.initiate_paddle(\"left\")\n",
    "\n",
    "paddle_right = Paddle()\n",
    "paddle_right.initiate_paddle(\"right\")\n",
    "\n"
   ]
  },
  {
   "cell_type": "code",
   "execution_count": 4,
   "metadata": {},
   "outputs": [],
   "source": [
    "screen.listen()\n",
    "\n",
    "for arrow_key, direction in paddle_left.controls_directory.items():\n",
    "    screen.onkey(key=arrow_key, fun=direction)\n",
    "\n",
    "for arrow_key, direction in paddle_right.controls_directory.items():\n",
    "    screen.onkey(key=arrow_key, fun=direction)\n",
    "\n"
   ]
  },
  {
   "cell_type": "code",
   "execution_count": 5,
   "metadata": {},
   "outputs": [],
   "source": [
    "# Initiating ball\n",
    "\n",
    "ball = Ball()"
   ]
  },
  {
   "cell_type": "code",
   "execution_count": 6,
   "metadata": {},
   "outputs": [],
   "source": [
    "# Initiating scoreboard\n",
    "\n",
    "left_scoreboard = Scoreboard((-40,200))\n",
    "\n",
    "right_scoreboard = Scoreboard((40,200))"
   ]
  },
  {
   "cell_type": "code",
   "execution_count": 7,
   "metadata": {},
   "outputs": [],
   "source": [
    "# Initating line\n",
    "\n",
    "centre_line = Line(0)"
   ]
  },
  {
   "cell_type": "code",
   "execution_count": 8,
   "metadata": {},
   "outputs": [
    {
     "ename": "TclError",
     "evalue": "invalid command name \".!canvas\"",
     "output_type": "error",
     "traceback": [
      "\u001b[0;31m---------------------------------------------------------------------------\u001b[0m",
      "\u001b[0;31mTclError\u001b[0m                                  Traceback (most recent call last)",
      "\u001b[1;32m/Users/Lukas.Deibel/code_repository/100_days_of_code/pong_game/main.ipynb Cell 8\u001b[0m line \u001b[0;36m1\n\u001b[1;32m     <a href='vscode-notebook-cell:/Users/Lukas.Deibel/code_repository/100_days_of_code/pong_game/main.ipynb#W4sZmlsZQ%3D%3D?line=9'>10</a>\u001b[0m screen\u001b[39m.\u001b[39mupdate()\n\u001b[1;32m     <a href='vscode-notebook-cell:/Users/Lukas.Deibel/code_repository/100_days_of_code/pong_game/main.ipynb#W4sZmlsZQ%3D%3D?line=10'>11</a>\u001b[0m sleep(ball\u001b[39m.\u001b[39mmove_speed)\n\u001b[0;32m---> <a href='vscode-notebook-cell:/Users/Lukas.Deibel/code_repository/100_days_of_code/pong_game/main.ipynb#W4sZmlsZQ%3D%3D?line=11'>12</a>\u001b[0m ball\u001b[39m.\u001b[39;49mmove()\n\u001b[1;32m     <a href='vscode-notebook-cell:/Users/Lukas.Deibel/code_repository/100_days_of_code/pong_game/main.ipynb#W4sZmlsZQ%3D%3D?line=12'>13</a>\u001b[0m ball\u001b[39m.\u001b[39mcollision_paddle(paddle_left)\n\u001b[1;32m     <a href='vscode-notebook-cell:/Users/Lukas.Deibel/code_repository/100_days_of_code/pong_game/main.ipynb#W4sZmlsZQ%3D%3D?line=13'>14</a>\u001b[0m ball\u001b[39m.\u001b[39mcollision_paddle(paddle_right)\n",
      "File \u001b[0;32m~/code_repository/100_days_of_code/pong_game/ball.py:26\u001b[0m, in \u001b[0;36mBall.move\u001b[0;34m(self)\u001b[0m\n\u001b[1;32m     25\u001b[0m \u001b[39mdef\u001b[39;00m \u001b[39mmove\u001b[39m(\u001b[39mself\u001b[39m):\n\u001b[0;32m---> 26\u001b[0m     \u001b[39mself\u001b[39;49m\u001b[39m.\u001b[39;49mforward(MOVING_DISTANCE)\n",
      "File \u001b[0;32m/Library/Frameworks/Python.framework/Versions/3.10/lib/python3.10/turtle.py:1638\u001b[0m, in \u001b[0;36mTNavigator.forward\u001b[0;34m(self, distance)\u001b[0m\n\u001b[1;32m   1617\u001b[0m \u001b[39mdef\u001b[39;00m \u001b[39mforward\u001b[39m(\u001b[39mself\u001b[39m, distance):\n\u001b[1;32m   1618\u001b[0m \u001b[39m    \u001b[39m\u001b[39m\"\"\"Move the turtle forward by the specified distance.\u001b[39;00m\n\u001b[1;32m   1619\u001b[0m \n\u001b[1;32m   1620\u001b[0m \u001b[39m    Aliases: forward | fd\u001b[39;00m\n\u001b[0;32m   (...)\u001b[0m\n\u001b[1;32m   1636\u001b[0m \u001b[39m    (-50.00,0.00)\u001b[39;00m\n\u001b[1;32m   1637\u001b[0m \u001b[39m    \"\"\"\u001b[39;00m\n\u001b[0;32m-> 1638\u001b[0m     \u001b[39mself\u001b[39;49m\u001b[39m.\u001b[39;49m_go(distance)\n",
      "File \u001b[0;32m/Library/Frameworks/Python.framework/Versions/3.10/lib/python3.10/turtle.py:1606\u001b[0m, in \u001b[0;36mTNavigator._go\u001b[0;34m(self, distance)\u001b[0m\n\u001b[1;32m   1604\u001b[0m \u001b[39m\u001b[39m\u001b[39m\"\"\"move turtle forward by specified distance\"\"\"\u001b[39;00m\n\u001b[1;32m   1605\u001b[0m ende \u001b[39m=\u001b[39m \u001b[39mself\u001b[39m\u001b[39m.\u001b[39m_position \u001b[39m+\u001b[39m \u001b[39mself\u001b[39m\u001b[39m.\u001b[39m_orient \u001b[39m*\u001b[39m distance\n\u001b[0;32m-> 1606\u001b[0m \u001b[39mself\u001b[39;49m\u001b[39m.\u001b[39;49m_goto(ende)\n",
      "File \u001b[0;32m/Library/Frameworks/Python.framework/Versions/3.10/lib/python3.10/turtle.py:3160\u001b[0m, in \u001b[0;36mRawTurtle._goto\u001b[0;34m(self, end)\u001b[0m\n\u001b[1;32m   3152\u001b[0m go_modes \u001b[39m=\u001b[39m ( \u001b[39mself\u001b[39m\u001b[39m.\u001b[39m_drawing,\n\u001b[1;32m   3153\u001b[0m              \u001b[39mself\u001b[39m\u001b[39m.\u001b[39m_pencolor,\n\u001b[1;32m   3154\u001b[0m              \u001b[39mself\u001b[39m\u001b[39m.\u001b[39m_pensize,\n\u001b[1;32m   3155\u001b[0m              \u001b[39misinstance\u001b[39m(\u001b[39mself\u001b[39m\u001b[39m.\u001b[39m_fillpath, \u001b[39mlist\u001b[39m))\n\u001b[1;32m   3156\u001b[0m screen \u001b[39m=\u001b[39m \u001b[39mself\u001b[39m\u001b[39m.\u001b[39mscreen\n\u001b[1;32m   3157\u001b[0m undo_entry \u001b[39m=\u001b[39m (\u001b[39m\"\u001b[39m\u001b[39mgo\u001b[39m\u001b[39m\"\u001b[39m, \u001b[39mself\u001b[39m\u001b[39m.\u001b[39m_position, end, go_modes,\n\u001b[1;32m   3158\u001b[0m               (\u001b[39mself\u001b[39m\u001b[39m.\u001b[39mcurrentLineItem,\n\u001b[1;32m   3159\u001b[0m               \u001b[39mself\u001b[39m\u001b[39m.\u001b[39mcurrentLine[:],\n\u001b[0;32m-> 3160\u001b[0m               screen\u001b[39m.\u001b[39;49m_pointlist(\u001b[39mself\u001b[39;49m\u001b[39m.\u001b[39;49mcurrentLineItem),\n\u001b[1;32m   3161\u001b[0m               \u001b[39mself\u001b[39m\u001b[39m.\u001b[39mitems[:])\n\u001b[1;32m   3162\u001b[0m               )\n\u001b[1;32m   3163\u001b[0m \u001b[39mif\u001b[39;00m \u001b[39mself\u001b[39m\u001b[39m.\u001b[39mundobuffer:\n\u001b[1;32m   3164\u001b[0m     \u001b[39mself\u001b[39m\u001b[39m.\u001b[39mundobuffer\u001b[39m.\u001b[39mpush(undo_entry)\n",
      "File \u001b[0;32m/Library/Frameworks/Python.framework/Versions/3.10/lib/python3.10/turtle.py:754\u001b[0m, in \u001b[0;36mTurtleScreenBase._pointlist\u001b[0;34m(self, item)\u001b[0m\n\u001b[1;32m    746\u001b[0m \u001b[39mdef\u001b[39;00m \u001b[39m_pointlist\u001b[39m(\u001b[39mself\u001b[39m, item):\n\u001b[1;32m    747\u001b[0m \u001b[39m    \u001b[39m\u001b[39m\"\"\"returns list of coordinate-pairs of points of item\u001b[39;00m\n\u001b[1;32m    748\u001b[0m \u001b[39m    Example (for insiders):\u001b[39;00m\n\u001b[1;32m    749\u001b[0m \u001b[39m    >>> from turtle import *\u001b[39;00m\n\u001b[0;32m   (...)\u001b[0m\n\u001b[1;32m    752\u001b[0m \u001b[39m    (9.9999999999999982, 0.0)]\u001b[39;00m\n\u001b[1;32m    753\u001b[0m \u001b[39m    >>> \"\"\"\u001b[39;00m\n\u001b[0;32m--> 754\u001b[0m     cl \u001b[39m=\u001b[39m \u001b[39mself\u001b[39;49m\u001b[39m.\u001b[39;49mcv\u001b[39m.\u001b[39;49mcoords(item)\n\u001b[1;32m    755\u001b[0m     pl \u001b[39m=\u001b[39m [(cl[i], \u001b[39m-\u001b[39mcl[i\u001b[39m+\u001b[39m\u001b[39m1\u001b[39m]) \u001b[39mfor\u001b[39;00m i \u001b[39min\u001b[39;00m \u001b[39mrange\u001b[39m(\u001b[39m0\u001b[39m, \u001b[39mlen\u001b[39m(cl), \u001b[39m2\u001b[39m)]\n\u001b[1;32m    756\u001b[0m     \u001b[39mreturn\u001b[39;00m  pl\n",
      "File \u001b[0;32m<string>:1\u001b[0m, in \u001b[0;36mcoords\u001b[0;34m(self, *args, **kw)\u001b[0m\n",
      "File \u001b[0;32m/Library/Frameworks/Python.framework/Versions/3.10/lib/python3.10/tkinter/__init__.py:2795\u001b[0m, in \u001b[0;36mCanvas.coords\u001b[0;34m(self, *args)\u001b[0m\n\u001b[1;32m   2791\u001b[0m \u001b[39m\u001b[39m\u001b[39m\"\"\"Return a list of coordinates for the item given in ARGS.\"\"\"\u001b[39;00m\n\u001b[1;32m   2792\u001b[0m \u001b[39m# XXX Should use _flatten on args\u001b[39;00m\n\u001b[1;32m   2793\u001b[0m \u001b[39mreturn\u001b[39;00m [\u001b[39mself\u001b[39m\u001b[39m.\u001b[39mtk\u001b[39m.\u001b[39mgetdouble(x) \u001b[39mfor\u001b[39;00m x \u001b[39min\u001b[39;00m\n\u001b[1;32m   2794\u001b[0m                    \u001b[39mself\u001b[39m\u001b[39m.\u001b[39mtk\u001b[39m.\u001b[39msplitlist(\n\u001b[0;32m-> 2795\u001b[0m            \u001b[39mself\u001b[39;49m\u001b[39m.\u001b[39;49mtk\u001b[39m.\u001b[39;49mcall((\u001b[39mself\u001b[39;49m\u001b[39m.\u001b[39;49m_w, \u001b[39m'\u001b[39;49m\u001b[39mcoords\u001b[39;49m\u001b[39m'\u001b[39;49m) \u001b[39m+\u001b[39;49m args))]\n",
      "\u001b[0;31mTclError\u001b[0m: invalid command name \".!canvas\""
     ]
    }
   ],
   "source": [
    "game_is_on = True\n",
    "\n",
    "ball.serve(\"right\")\n",
    "\n",
    "while game_is_on:\n",
    "\n",
    "    ball_in_bounds = True\n",
    "\n",
    "    while ball_in_bounds:\n",
    "        screen.update()\n",
    "        sleep(ball.move_speed)\n",
    "        ball.move()\n",
    "        ball.collision_paddle(paddle_left)\n",
    "        ball.collision_paddle(paddle_right)\n",
    "        ball.collision_wall()\n",
    "        \n",
    "        if ball.out_of_bounds_left():\n",
    "            right_scoreboard.update()\n",
    "            ball_in_bounds = False\n",
    "        \n",
    "        elif ball.out_of_bounds_right():\n",
    "            left_scoreboard.update()\n",
    "            ball_in_bounds = False\n"
   ]
  },
  {
   "cell_type": "code",
   "execution_count": null,
   "metadata": {},
   "outputs": [],
   "source": [
    "screen.exitonclick()"
   ]
  }
 ],
 "metadata": {
  "kernelspec": {
   "display_name": "Python 3",
   "language": "python",
   "name": "python3"
  },
  "language_info": {
   "codemirror_mode": {
    "name": "ipython",
    "version": 3
   },
   "file_extension": ".py",
   "mimetype": "text/x-python",
   "name": "python",
   "nbconvert_exporter": "python",
   "pygments_lexer": "ipython3",
   "version": "3.10.6"
  }
 },
 "nbformat": 4,
 "nbformat_minor": 2
}
