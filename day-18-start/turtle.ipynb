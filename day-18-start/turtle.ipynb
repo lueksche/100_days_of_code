{
 "cells": [
  {
   "cell_type": "code",
   "execution_count": 1,
   "metadata": {},
   "outputs": [
    {
     "name": "stderr",
     "output_type": "stream",
     "text": [
      "2023-12-21 09:09:44.237 Python[93461:2195290] WARNING: Secure coding is not enabled for restorable state! Enable secure coding by implementing NSApplicationDelegate.applicationSupportsSecureRestorableState: and returning YES.\n"
     ]
    }
   ],
   "source": [
    "#Import Modules\n",
    "import turtle as t\n",
    "import random\n",
    "\n",
    "t.colormode(255)"
   ]
  },
  {
   "cell_type": "code",
   "execution_count": 2,
   "metadata": {},
   "outputs": [],
   "source": [
    "#Turtle attributes\n",
    "squash = t.Turtle()\n",
    "squash.shape(\"turtle\")\n",
    "squash.pensize(1)\n",
    "squash.speed(\"fastest\")\n",
    "\n",
    "def random_color():\n",
    "    r = random.randint(0,255)\n",
    "    g = random.randint(0,255)\n",
    "    b = random.randint(0,255)\n",
    "    color = (r, g, b)\n",
    "    return color\n",
    "\n",
    "#Random Color Function\n",
    "def change_pen_color():\n",
    "    squash.pencolor(random_color())"
   ]
  },
  {
   "cell_type": "code",
   "execution_count": 3,
   "metadata": {},
   "outputs": [],
   "source": [
    "# #Draw sqaure\n",
    "# for i in range(4):\n",
    "#     squash.forward(100)\n",
    "#     squash.right(90)"
   ]
  },
  {
   "cell_type": "code",
   "execution_count": 4,
   "metadata": {},
   "outputs": [],
   "source": [
    "# #Draw a dashed line\n",
    "# for i in range(50):\n",
    "#     squash.pendown()\n",
    "#     squash.forward(10)\n",
    "#     squash.penup()\n",
    "#     squash.forward(10)"
   ]
  },
  {
   "cell_type": "code",
   "execution_count": 5,
   "metadata": {},
   "outputs": [],
   "source": [
    "# #Draw Shape\n",
    "# def draw_shape(sides):  \n",
    "#     squash.pendown()\n",
    "#     ankle = 360 / sides\n",
    "#     for i in range(sides):\n",
    "#         squash.forward(100) \n",
    "#         squash.right(ankle)\n",
    "\n",
    "# for i in range(3, 11):\n",
    "#     draw_shape(i)\n",
    "#     change_pen_color(random.choice(COLORS))"
   ]
  },
  {
   "cell_type": "code",
   "execution_count": 6,
   "metadata": {},
   "outputs": [],
   "source": [
    "# #Random Walk\n",
    "# def random_distance():    \n",
    "#     squash.forward(random.randint(10, 100))\n",
    "    \n",
    "# def random_ankle():\n",
    "#     return random.choice([0, 90, 180, 270])\n",
    "\n",
    "# # keep_running = True\n",
    "# # while keep_running:\n",
    "# #     pass\n",
    "\n",
    "# for i in range(200):\n",
    "#     squash.pendown()\n",
    "#     squash.setheading(random_ankle())\n",
    "#     random_distance()\n",
    "#     change_pen_color()"
   ]
  },
  {
   "cell_type": "code",
   "execution_count": 7,
   "metadata": {},
   "outputs": [],
   "source": [
    "#Spirograph\n",
    "\n",
    "def draw_spirograph(size_of_gap):\n",
    "    \"\"\"Draws a spirogaph in different colors. Enter the amount of circles you want to draw\"\"\"\n",
    "    for i in range(int(360 / size_of_gap)):\n",
    "        squash.circle(100)\n",
    "        squash.setheading(squash.heading() + size_of_gap)\n",
    "        change_pen_color()\n",
    "\n",
    "draw_spirograph(5)"
   ]
  },
  {
   "cell_type": "code",
   "execution_count": 8,
   "metadata": {},
   "outputs": [
    {
     "data": {
      "text/plain": [
       "<bound method _Screen.exitonclick of <turtle._Screen object at 0x108245db0>>"
      ]
     },
     "execution_count": 8,
     "metadata": {},
     "output_type": "execute_result"
    },
    {
     "ename": "",
     "evalue": "",
     "output_type": "error",
     "traceback": [
      "\u001b[1;31mThe Kernel crashed while executing code in the the current cell or a previous cell. Please review the code in the cell(s) to identify a possible cause of the failure. Click <a href='https://aka.ms/vscodeJupyterKernelCrash'>here</a> for more info. View Jupyter <a href='command:jupyter.viewOutput'>log</a> for further details."
     ]
    }
   ],
   "source": [
    "#Launch Screen\n",
    "my_screen = t.Screen()\n",
    "my_screen.exitonclick\n"
   ]
  }
 ],
 "metadata": {
  "kernelspec": {
   "display_name": "Python 3",
   "language": "python",
   "name": "python3"
  },
  "language_info": {
   "codemirror_mode": {
    "name": "ipython",
    "version": 3
   },
   "file_extension": ".py",
   "mimetype": "text/x-python",
   "name": "python",
   "nbconvert_exporter": "python",
   "pygments_lexer": "ipython3",
   "version": "3.10.6"
  }
 },
 "nbformat": 4,
 "nbformat_minor": 2
}
