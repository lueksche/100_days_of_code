{
 "cells": [
  {
   "cell_type": "code",
   "execution_count": 1,
   "metadata": {},
   "outputs": [],
   "source": [
    "import pandas as pd"
   ]
  },
  {
   "cell_type": "code",
   "execution_count": 2,
   "metadata": {},
   "outputs": [
    {
     "name": "stdout",
     "output_type": "stream",
     "text": [
      "              X          Y Unique Squirrel ID Hectare Shift      Date  \\\n",
      "0    -73.956134  40.794082     37F-PM-1014-03     37F    PM  10142018   \n",
      "1    -73.957044  40.794851     37E-PM-1006-03     37E    PM  10062018   \n",
      "2    -73.976831  40.766718      2E-AM-1010-03     02E    AM  10102018   \n",
      "3    -73.975725  40.769703      5D-PM-1018-05     05D    PM  10182018   \n",
      "4    -73.959313  40.797533     39B-AM-1018-01     39B    AM  10182018   \n",
      "...         ...        ...                ...     ...   ...       ...   \n",
      "3018 -73.963943  40.790868     30B-AM-1007-04     30B    AM  10072018   \n",
      "3019 -73.970402  40.782560     19A-PM-1013-05     19A    PM  10132018   \n",
      "3020 -73.966587  40.783678     22D-PM-1012-07     22D    PM  10122018   \n",
      "3021 -73.963994  40.789915     29B-PM-1010-02     29B    PM  10102018   \n",
      "3022 -73.975479  40.769640      5E-PM-1012-01     05E    PM  10122018   \n",
      "\n",
      "      Hectare Squirrel Number       Age Primary Fur Color  \\\n",
      "0                           3       NaN               NaN   \n",
      "1                           3     Adult              Gray   \n",
      "2                           3     Adult          Cinnamon   \n",
      "3                           5  Juvenile              Gray   \n",
      "4                           1       NaN               NaN   \n",
      "...                       ...       ...               ...   \n",
      "3018                        4     Adult              Gray   \n",
      "3019                        5     Adult              Gray   \n",
      "3020                        7     Adult              Gray   \n",
      "3021                        2       NaN              Gray   \n",
      "3022                        1     Adult          Cinnamon   \n",
      "\n",
      "         Highlight Fur Color  ...   Kuks  Quaas  Moans Tail flags  \\\n",
      "0                        NaN  ...  False  False  False      False   \n",
      "1                   Cinnamon  ...  False  False  False      False   \n",
      "2                        NaN  ...  False  False  False      False   \n",
      "3                        NaN  ...  False  False  False      False   \n",
      "4                        NaN  ...   True  False  False      False   \n",
      "...                      ...  ...    ...    ...    ...        ...   \n",
      "3018                     NaN  ...  False  False  False      False   \n",
      "3019                   White  ...  False  False  False      False   \n",
      "3020  Black, Cinnamon, White  ...  False  False  False      False   \n",
      "3021         Cinnamon, White  ...  False  False  False      False   \n",
      "3022             Gray, White  ...  False  False  False      False   \n",
      "\n",
      "     Tail twitches  Approaches  Indifferent  Runs from  Other Interactions  \\\n",
      "0            False       False        False      False                 NaN   \n",
      "1            False       False        False       True                  me   \n",
      "2            False       False         True      False                 NaN   \n",
      "3            False       False        False       True                 NaN   \n",
      "4            False       False        False      False                 NaN   \n",
      "...            ...         ...          ...        ...                 ...   \n",
      "3018         False       False        False       True                 NaN   \n",
      "3019         False       False         True      False                 NaN   \n",
      "3020         False       False         True      False                 NaN   \n",
      "3021         False       False         True      False                 NaN   \n",
      "3022         False        True        False      False                 NaN   \n",
      "\n",
      "                                          Lat/Long  \n",
      "0       POINT (-73.9561344937861 40.7940823884086)  \n",
      "1     POINT (-73.9570437717691 40.794850940803904)  \n",
      "2      POINT (-73.9768311751004 40.76671780725581)  \n",
      "3       POINT (-73.9757249834141 40.7697032606755)  \n",
      "4        POINT (-73.9593126695714 40.797533370163)  \n",
      "...                                            ...  \n",
      "3018    POINT (-73.9639431360458 40.7908677445466)  \n",
      "3019    POINT (-73.9704015859639 40.7825600069973)  \n",
      "3020    POINT (-73.9665871993517 40.7836775064883)  \n",
      "3021    POINT (-73.9639941227864 40.7899152327912)  \n",
      "3022    POINT (-73.9754794191553 40.7696404489025)  \n",
      "\n",
      "[3023 rows x 31 columns]\n"
     ]
    }
   ],
   "source": [
    "with open(\"2018_Central_Park_Squirrel_Census_-_Squirrel_Data.csv\") as datafile:\n",
    "    data = pd.read_csv(datafile)"
   ]
  },
  {
   "cell_type": "code",
   "execution_count": 18,
   "metadata": {},
   "outputs": [],
   "source": [
    "color_count_list = []\n",
    "for color in [\"Gray\", \"Cinnamon\", \"Black\"]:\n",
    "    color_data = data[data[\"Primary Fur Color\"] == color]\n",
    "    color_count = color_data[\"Unique Squirrel ID\"].count()\n",
    "    color_count_list.append([color, color_count])\n",
    "color_count_df = pd.DataFrame(color_count_list)\n",
    "color_count_df.columns = [\"Fur Color\", \"Count\"]\n",
    "color_count_df.to_csv(\"squirrel_count.csv\")\n"
   ]
  }
 ],
 "metadata": {
  "kernelspec": {
   "display_name": "Python 3",
   "language": "python",
   "name": "python3"
  },
  "language_info": {
   "codemirror_mode": {
    "name": "ipython",
    "version": 3
   },
   "file_extension": ".py",
   "mimetype": "text/x-python",
   "name": "python",
   "nbconvert_exporter": "python",
   "pygments_lexer": "ipython3",
   "version": "3.10.6"
  }
 },
 "nbformat": 4,
 "nbformat_minor": 2
}
