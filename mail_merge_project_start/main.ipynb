{
 "cells": [
  {
   "cell_type": "markdown",
   "metadata": {},
   "source": [
    "#TODO: Create a letter using starting_letter.txt \n",
    "#for each name in invited_names.txt\n",
    "#Replace the [name] placeholder with the actual name.\n",
    "#Save the letters in the folder \"ReadyToSend\".\n",
    "    \n",
    "#Hint1: This method will help you: https://www.w3schools.com/python/ref_file_readlines.asp\n",
    "    #Hint2: This method will also help you: https://www.w3schools.com/python/ref_string_replace.asp\n",
    "        #Hint3: THis method will help you: https://www.w3schools.com/python/ref_string_strip.asp\n",
    "\n",
    "Problem Breakdown\n",
    "\n",
    "- read name.txt and convert lines to list\n",
    "- read starting_letter.txt\n",
    "- iterate through name list\n",
    "- strip names of \\n \n",
    "- replace [Name] placeholder with list item\n",
    "- save file in Output"
   ]
  },
  {
   "cell_type": "code",
   "execution_count": null,
   "metadata": {},
   "outputs": [],
   "source": [
    "PLACEHOLDER = \"[name]\""
   ]
  },
  {
   "cell_type": "code",
   "execution_count": 1,
   "metadata": {},
   "outputs": [
    {
     "name": "stdout",
     "output_type": "stream",
     "text": [
      "['Aang\\n', 'Zuko\\n', 'Appa\\n', 'Katara\\n', 'Sokka\\n', 'Momo\\n', 'Uncle Iroh\\n', 'Toph']\n"
     ]
    }
   ],
   "source": [
    "# read name.txt and convert lines to list\n",
    "with open(\"Input/Names/invited_names.txt\") as invited_names:\n",
    "    invited_names_list = invited_names.readlines()\n",
    "  \n",
    "print(invited_names_list)"
   ]
  },
  {
   "cell_type": "code",
   "execution_count": 2,
   "metadata": {},
   "outputs": [
    {
     "name": "stdout",
     "output_type": "stream",
     "text": [
      "Dear [name],\n",
      "\n",
      "You are invited to my birthday this Saturday.\n",
      "\n",
      "Hope you can make it!\n",
      "\n",
      "Angela\n",
      "\n"
     ]
    }
   ],
   "source": [
    "# read starting_letter.txt\n",
    "with open(\"Input/Letters/starting_letter.txt\") as starting_letter:\n",
    "    stating_letter_text = starting_letter.read()\n",
    "    \n",
    "print(stating_letter_text)"
   ]
  },
  {
   "cell_type": "code",
   "execution_count": 6,
   "metadata": {},
   "outputs": [],
   "source": [
    "for name in invited_names_list:\n",
    "    name_cleaned = name.strip()\n",
    "    letter_title = f\"letter_for_{name_cleaned}.txt\"\n",
    "    letter_text = stating_letter_text.replace(PLACEHOLDER, name_cleaned)\n",
    "    with open(f\"./Output/ReadyToSend/{letter_title}\", \"w\") as final_letter:\n",
    "        final_letter.write(letter_text)\n"
   ]
  }
 ],
 "metadata": {
  "kernelspec": {
   "display_name": "Python 3",
   "language": "python",
   "name": "python3"
  },
  "language_info": {
   "codemirror_mode": {
    "name": "ipython",
    "version": 3
   },
   "file_extension": ".py",
   "mimetype": "text/x-python",
   "name": "python",
   "nbconvert_exporter": "python",
   "pygments_lexer": "ipython3",
   "version": "3.10.6"
  }
 },
 "nbformat": 4,
 "nbformat_minor": 2
}
