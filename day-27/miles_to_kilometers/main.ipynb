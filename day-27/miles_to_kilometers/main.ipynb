{
 "cells": [
  {
   "cell_type": "code",
   "execution_count": 1,
   "metadata": {},
   "outputs": [],
   "source": [
    "from tkinter import *"
   ]
  },
  {
   "cell_type": "code",
   "execution_count": 2,
   "metadata": {},
   "outputs": [
    {
     "name": "stderr",
     "output_type": "stream",
     "text": [
      "2024-03-12 14:53:42.390 Python[10047:161928] WARNING: Secure coding is not enabled for restorable state! Enable secure coding by implementing NSApplicationDelegate.applicationSupportsSecureRestorableState: and returning YES.\n"
     ]
    }
   ],
   "source": [
    "window = Tk()\n",
    "window.title(\"Miles to Km Converter\")\n",
    "window.config(padx=20, pady=20)"
   ]
  },
  {
   "cell_type": "code",
   "execution_count": 3,
   "metadata": {},
   "outputs": [],
   "source": [
    "miles_input = Entry()\n",
    "miles_input.config(width=10)\n",
    "miles_input.grid(column=1, row=0)\n",
    "miles_input.insert(END, string=\"0\")"
   ]
  },
  {
   "cell_type": "code",
   "execution_count": 4,
   "metadata": {},
   "outputs": [],
   "source": [
    "# Labels\n",
    "miles_label = Label(text=\"Miles\")\n",
    "miles_label.grid(column=2, row=0)\n",
    "\n",
    "is_equal_label = Label(text=\"is equal to\")\n",
    "is_equal_label.grid(column=0, row=1)\n",
    "\n",
    "km_result_label = Label(text=\"0\")\n",
    "km_result_label.grid(column=1, row=1)\n",
    "\n",
    "km_label = Label(text=\"Km\")\n",
    "km_label.grid(column=2, row=1)"
   ]
  },
  {
   "cell_type": "code",
   "execution_count": 5,
   "metadata": {},
   "outputs": [],
   "source": [
    "# Button\n",
    "def calculate_miles_to_km():\n",
    "    miles = int(miles_input.get())\n",
    "    km = miles * 1.609344\n",
    "    km_result_label.config(text=f\"{km}\")\n",
    "\n",
    "calculate_button = Button(text=\"Calculate\", command=calculate_miles_to_km)\n",
    "calculate_button.grid(column=1, row=2)"
   ]
  },
  {
   "cell_type": "code",
   "execution_count": 6,
   "metadata": {},
   "outputs": [
    {
     "ename": "",
     "evalue": "",
     "output_type": "error",
     "traceback": [
      "\u001b[1;31mThe Kernel crashed while executing code in the current cell or a previous cell. \n",
      "\u001b[1;31mPlease review the code in the cell(s) to identify a possible cause of the failure. \n",
      "\u001b[1;31mClick <a href='https://aka.ms/vscodeJupyterKernelCrash'>here</a> for more info. \n",
      "\u001b[1;31mView Jupyter <a href='command:jupyter.viewOutput'>log</a> for further details."
     ]
    }
   ],
   "source": [
    "window.mainloop()"
   ]
  }
 ],
 "metadata": {
  "kernelspec": {
   "display_name": "Python 3",
   "language": "python",
   "name": "python3"
  },
  "language_info": {
   "codemirror_mode": {
    "name": "ipython",
    "version": 3
   },
   "file_extension": ".py",
   "mimetype": "text/x-python",
   "name": "python",
   "nbconvert_exporter": "python",
   "pygments_lexer": "ipython3",
   "version": "3.10.6"
  }
 },
 "nbformat": 4,
 "nbformat_minor": 2
}
