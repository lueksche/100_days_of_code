{
 "cells": [
  {
   "cell_type": "markdown",
   "metadata": {},
   "source": [
    "Use BeautifulSoup to get hold of the price of the item as a floating point number and print it out."
   ]
  },
  {
   "cell_type": "code",
   "execution_count": 34,
   "metadata": {},
   "outputs": [],
   "source": [
    "URL = \"https://www.amazon.de/gp/product/B0CG6SBZ4Q/ref=sw_img_1?smid=A3JWKAKR8XB7XF&th=1\""
   ]
  },
  {
   "cell_type": "code",
   "execution_count": null,
   "metadata": {},
   "outputs": [],
   "source": [
    "from bs4 import BeautifulSoup\n",
    "import requests\n",
    "\n",
    "headers = {\n",
    "        \"Accept\": \"text/html,application/xhtml+xml,application/xml;q=0.9,image/avif,image/webp,image/apng,*/*;q=0.8,application/signed-exchange;v=b3;q=0.7\",\n",
    "        \"Accept-Encoding\": \"gzip, deflate, br, zstd\",\n",
    "        \"Accept-Language\": \"de-DE\",\n",
    "        \"Sec-Ch-Ua\": \"\\\"Chromium\\\";v=\\\"128\\\", \\\"Not;A=Brand\\\";v=\\\"24\\\", \\\"Microsoft Edge\\\";v=\\\"128\\\"\",\n",
    "        \"Sec-Ch-Ua-Mobile\": \"?0\",\n",
    "        \"Sec-Ch-Ua-Platform\": \"\\\"macOS\\\"\",\n",
    "        \"Sec-Fetch-Dest\": \"document\",\n",
    "        \"Sec-Fetch-Mode\": \"navigate\",\n",
    "        \"Sec-Fetch-Site\": \"cross-site\",\n",
    "        \"Sec-Fetch-User\": \"?1\",\n",
    "        \"Upgrade-Insecure-Requests\": \"1\",\n",
    "        \"User-Agent\": \"Mozilla/5.0 (Macintosh; Intel Mac OS X 10_15_7) AppleWebKit/537.36 (KHTML, like Gecko) Chrome/128.0.0.0 Safari/537.36 Edg/128.0.0.0\",\n",
    "        \"X-Amzn-Trace-Id\": \"Root=1-66f50972-1e16edf753a4e620770d62c0\"\n",
    "    }\n",
    "response = requests.get(URL, headers=headers)\n",
    "soup = BeautifulSoup(response.content, \"html.parser\")\n",
    "print(soup.prettify())"
   ]
  },
  {
   "cell_type": "code",
   "execution_count": null,
   "metadata": {},
   "outputs": [],
   "source": [
    "price_string = soup.find(class_=\"a-offscreen\").contents[0]\n",
    "price = float(price_string.split('€')[0].replace(',', '.'))\n",
    "print(price)"
   ]
  },
  {
   "cell_type": "code",
   "execution_count": null,
   "metadata": {},
   "outputs": [],
   "source": [
    "product_name = soup.find(class_=\"a-size-large product-title-word-break\").contents[0]\n",
    "product_name"
   ]
  },
  {
   "cell_type": "markdown",
   "metadata": {},
   "source": [
    "Email alert when the price is below preset value"
   ]
  },
  {
   "cell_type": "code",
   "execution_count": 48,
   "metadata": {},
   "outputs": [],
   "source": [
    "PRESET_VALUE = 70"
   ]
  },
  {
   "cell_type": "code",
   "execution_count": null,
   "metadata": {},
   "outputs": [],
   "source": [
    "%pip install python-dotenv\n",
    "from dotenv import load_dotenv\n",
    "import os\n",
    "load_dotenv()"
   ]
  },
  {
   "cell_type": "code",
   "execution_count": null,
   "metadata": {},
   "outputs": [],
   "source": [
    "SMTP_ADDRESS = os.getenv(\"SMTP_ADDRESS\")\n",
    "EMAIL_ADDRESS = os.getenv(\"EMAIL_ADDRESS\")\n",
    "EMAIL_PASSWORD = os.getenv(\"EMAIL_PASSWORD\")\n",
    "\n",
    "SMTP_ADDRESS, EMAIL_ADDRESS, EMAIL_PASSWORD"
   ]
  },
  {
   "cell_type": "code",
   "execution_count": 51,
   "metadata": {},
   "outputs": [],
   "source": [
    "from smtplib import SMTP\n",
    "\n",
    "if price < PRESET_VALUE:\n",
    "    with SMTP(SMTP_ADDRESS) as connection:\n",
    "        connection.starttls()\n",
    "        connection.login(user=EMAIL_ADDRESS, password=EMAIL_PASSWORD)\n",
    "        connection.sendmail(from_addr=EMAIL_ADDRESS, to_addrs=\"deibel_lukas@gmx.de\", msg=f\"Subject: Instant Pot Price Alert\\n\\nThe price of the {product_name} is now ${price}.\\n{URL}\".encode('utf-8'))"
   ]
  }
 ],
 "metadata": {
  "kernelspec": {
   "display_name": "Python 3",
   "language": "python",
   "name": "python3"
  },
  "language_info": {
   "codemirror_mode": {
    "name": "ipython",
    "version": 3
   },
   "file_extension": ".py",
   "mimetype": "text/x-python",
   "name": "python",
   "nbconvert_exporter": "python",
   "pygments_lexer": "ipython3",
   "version": "3.12.3"
  }
 },
 "nbformat": 4,
 "nbformat_minor": 2
}
